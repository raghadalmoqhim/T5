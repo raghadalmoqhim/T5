{
  "cells": [
    {
      "cell_type": "markdown",
      "metadata": {
        "id": "view-in-github",
        "colab_type": "text"
      },
      "source": [
        "<a href=\"https://colab.research.google.com/github/raghadalmoqhim/T5/blob/main/Used_cars.ipynb\" target=\"_parent\"><img src=\"https://colab.research.google.com/assets/colab-badge.svg\" alt=\"Open In Colab\"/></a>"
      ]
    },
    {
      "cell_type": "markdown",
      "metadata": {
        "id": "1ENLAT1xN5pr"
      },
      "source": [
        "# Our tasks today is to:\n",
        "### 1. Explore the data.\n",
        "### 2. Preprocess the data\n",
        "* Clean the data.\n",
        "* Fill missing values.\n",
        "### 3. Visualize the data.\n",
        "### 4. Save the dataframe."
      ]
    },
    {
      "cell_type": "code",
      "source": [
        "# week2 day2"
      ],
      "metadata": {
        "id": "orG-RXU6mkN2"
      },
      "execution_count": null,
      "outputs": []
    },
    {
      "cell_type": "markdown",
      "metadata": {
        "id": "8TX2vcjpN5pt"
      },
      "source": [
        "# Import libraries & Load the data"
      ]
    },
    {
      "cell_type": "code",
      "execution_count": null,
      "metadata": {
        "id": "UikSOXpfN5pt"
      },
      "outputs": [],
      "source": [
        "import pandas as pd\n",
        "import numpy as np\n",
        "import matplotlib.pyplot as plt\n",
        "import seaborn as sns\n",
        "from sklearn.preprocessing import OneHotEncoder, LabelEncoder"
      ]
    },
    {
      "cell_type": "code",
      "source": [
        "import pandas as pd\n",
        "import numpy as np\n",
        "import matplotlib.pyplot as plt\n",
        "import seaborn as sns\n",
        "from sklearn.preprocessing import OneHotEncoder, LabelEncoder"
      ],
      "metadata": {
        "id": "tfFXgTFJOv2G"
      },
      "execution_count": null,
      "outputs": []
    },
    {
      "cell_type": "code",
      "source": [
        "from google.colab import drive\n",
        "drive.mount('/content/drive')"
      ],
      "metadata": {
        "colab": {
          "base_uri": "https://localhost:8080/"
        },
        "id": "mpHYAsVDOAkx",
        "outputId": "accb6252-5939-462e-ff2d-b5c52907a131"
      },
      "execution_count": null,
      "outputs": [
        {
          "output_type": "stream",
          "name": "stdout",
          "text": [
            "Drive already mounted at /content/drive; to attempt to forcibly remount, call drive.mount(\"/content/drive\", force_remount=True).\n"
          ]
        }
      ]
    },
    {
      "cell_type": "code",
      "execution_count": null,
      "metadata": {
        "id": "M7Lq934GN5pu"
      },
      "outputs": [],
      "source": [
        "df = pd.read_csv('/content/drive/MyDrive/T5/WEEK_2/LAB_Day2/Dataset/Used_Cars.csv')"
      ]
    },
    {
      "cell_type": "markdown",
      "metadata": {
        "id": "XpbQVfctN5pu"
      },
      "source": [
        "# 1- EDA"
      ]
    },
    {
      "cell_type": "markdown",
      "metadata": {
        "id": "KkZASzxHN5pv"
      },
      "source": [
        "## Lets first get to know the dataset, how many columns, rows, number of null values, and what are the data types"
      ]
    },
    {
      "cell_type": "code",
      "execution_count": null,
      "metadata": {
        "colab": {
          "base_uri": "https://localhost:8080/"
        },
        "id": "FdUrO4nNN5pv",
        "outputId": "8da5918c-872b-4e28-89a8-1468f4611d63"
      },
      "outputs": [
        {
          "output_type": "stream",
          "name": "stdout",
          "text": [
            "<class 'pandas.core.frame.DataFrame'>\n",
            "RangeIndex: 6019 entries, 0 to 6018\n",
            "Data columns (total 14 columns):\n",
            " #   Column             Non-Null Count  Dtype  \n",
            "---  ------             --------------  -----  \n",
            " 0   Unnamed: 0         6019 non-null   int64  \n",
            " 1   Name               6019 non-null   object \n",
            " 2   Location           6019 non-null   object \n",
            " 3   Year               6019 non-null   int64  \n",
            " 4   Kilometers_Driven  6019 non-null   int64  \n",
            " 5   Fuel_Type          6019 non-null   object \n",
            " 6   Transmission       6019 non-null   object \n",
            " 7   Owner_Type         6019 non-null   object \n",
            " 8   Mileage            6017 non-null   object \n",
            " 9   Engine             5983 non-null   object \n",
            " 10  Power              5983 non-null   object \n",
            " 11  Seats              5977 non-null   float64\n",
            " 12  New_Price          824 non-null    object \n",
            " 13  Price              6019 non-null   float64\n",
            "dtypes: float64(2), int64(3), object(9)\n",
            "memory usage: 658.5+ KB\n"
          ]
        }
      ],
      "source": [
        "df.info()"
      ]
    },
    {
      "cell_type": "markdown",
      "metadata": {
        "id": "H2yxwKLvN5pw"
      },
      "source": [
        "#### The DataFrame contains 6,019 entries and 14 columns. Here's what we can get out of it:\n",
        "\n",
        "0. `Unnamed`: 0: Integer, no missing values.\n",
        "1. `Name`: Object, no missing values.\n",
        "2. `Location`: Object, no missing values.\n",
        "3. `Year`: Integer, no missing values.\n",
        "4. `Kilometers_Driven`: Integer, no missing values.\n",
        "5. `Fuel_Type`: Object, no missing values.\n",
        "6. `Transmission`: Object, no missing values.\n",
        "7. `Owner_Type`: Object, no missing values.\n",
        "8. `Mileage`: Object, 2 missing values.\n",
        "9. `Engine`: Object, 36 missing values.\n",
        "10. `Power`: Object, 36 missing values.\n",
        "11. `Seats`: Float, 42 missing values.\n",
        "12. `New_Price`: Object, many missing values (only 824 non-null).\n",
        "13. `Price`: Float, no missing values.\n",
        "Some columns have missing values, and some object columns might need conversion to numeric types for analysis."
      ]
    },
    {
      "cell_type": "markdown",
      "metadata": {
        "id": "_UNe8_xLN5pw"
      },
      "source": [
        "## Now Lets have a look at the dataset."
      ]
    },
    {
      "cell_type": "markdown",
      "metadata": {
        "id": "lP4OgZh0N5pw"
      },
      "source": [
        "### First lets take a look at the first 5 rows in the dataframe!"
      ]
    },
    {
      "cell_type": "code",
      "execution_count": null,
      "metadata": {
        "colab": {
          "base_uri": "https://localhost:8080/",
          "height": 397
        },
        "id": "SGTaV1g6N5pw",
        "outputId": "154ae320-b893-46b0-a194-77906a59816e"
      },
      "outputs": [
        {
          "output_type": "execute_result",
          "data": {
            "text/plain": [
              "   Unnamed: 0                              Name    Location  Year  \\\n",
              "0           0            Maruti Wagon R LXI CNG      Mumbai  2010   \n",
              "1           1  Hyundai Creta 1.6 CRDi SX Option        Pune  2015   \n",
              "2           2                      Honda Jazz V     Chennai  2011   \n",
              "3           3                 Maruti Ertiga VDI     Chennai  2012   \n",
              "4           4   Audi A4 New 2.0 TDI Multitronic  Coimbatore  2013   \n",
              "\n",
              "   Kilometers_Driven Fuel_Type Transmission Owner_Type     Mileage   Engine  \\\n",
              "0              72000       CNG       Manual      First  26.6 km/kg   998 CC   \n",
              "1              41000    Diesel       Manual      First  19.67 kmpl  1582 CC   \n",
              "2              46000    Petrol       Manual      First   18.2 kmpl  1199 CC   \n",
              "3              87000    Diesel       Manual      First  20.77 kmpl  1248 CC   \n",
              "4              40670    Diesel    Automatic     Second   15.2 kmpl  1968 CC   \n",
              "\n",
              "       Power  Seats  New_Price  Price  \n",
              "0  58.16 bhp    5.0        NaN   1.75  \n",
              "1  126.2 bhp    5.0        NaN  12.50  \n",
              "2   88.7 bhp    5.0  8.61 Lakh   4.50  \n",
              "3  88.76 bhp    7.0        NaN   6.00  \n",
              "4  140.8 bhp    5.0        NaN  17.74  "
            ],
            "text/html": [
              "\n",
              "  <div id=\"df-c239de3c-2376-4f64-80fc-f43bdb26efb6\" class=\"colab-df-container\">\n",
              "    <div>\n",
              "<style scoped>\n",
              "    .dataframe tbody tr th:only-of-type {\n",
              "        vertical-align: middle;\n",
              "    }\n",
              "\n",
              "    .dataframe tbody tr th {\n",
              "        vertical-align: top;\n",
              "    }\n",
              "\n",
              "    .dataframe thead th {\n",
              "        text-align: right;\n",
              "    }\n",
              "</style>\n",
              "<table border=\"1\" class=\"dataframe\">\n",
              "  <thead>\n",
              "    <tr style=\"text-align: right;\">\n",
              "      <th></th>\n",
              "      <th>Unnamed: 0</th>\n",
              "      <th>Name</th>\n",
              "      <th>Location</th>\n",
              "      <th>Year</th>\n",
              "      <th>Kilometers_Driven</th>\n",
              "      <th>Fuel_Type</th>\n",
              "      <th>Transmission</th>\n",
              "      <th>Owner_Type</th>\n",
              "      <th>Mileage</th>\n",
              "      <th>Engine</th>\n",
              "      <th>Power</th>\n",
              "      <th>Seats</th>\n",
              "      <th>New_Price</th>\n",
              "      <th>Price</th>\n",
              "    </tr>\n",
              "  </thead>\n",
              "  <tbody>\n",
              "    <tr>\n",
              "      <th>0</th>\n",
              "      <td>0</td>\n",
              "      <td>Maruti Wagon R LXI CNG</td>\n",
              "      <td>Mumbai</td>\n",
              "      <td>2010</td>\n",
              "      <td>72000</td>\n",
              "      <td>CNG</td>\n",
              "      <td>Manual</td>\n",
              "      <td>First</td>\n",
              "      <td>26.6 km/kg</td>\n",
              "      <td>998 CC</td>\n",
              "      <td>58.16 bhp</td>\n",
              "      <td>5.0</td>\n",
              "      <td>NaN</td>\n",
              "      <td>1.75</td>\n",
              "    </tr>\n",
              "    <tr>\n",
              "      <th>1</th>\n",
              "      <td>1</td>\n",
              "      <td>Hyundai Creta 1.6 CRDi SX Option</td>\n",
              "      <td>Pune</td>\n",
              "      <td>2015</td>\n",
              "      <td>41000</td>\n",
              "      <td>Diesel</td>\n",
              "      <td>Manual</td>\n",
              "      <td>First</td>\n",
              "      <td>19.67 kmpl</td>\n",
              "      <td>1582 CC</td>\n",
              "      <td>126.2 bhp</td>\n",
              "      <td>5.0</td>\n",
              "      <td>NaN</td>\n",
              "      <td>12.50</td>\n",
              "    </tr>\n",
              "    <tr>\n",
              "      <th>2</th>\n",
              "      <td>2</td>\n",
              "      <td>Honda Jazz V</td>\n",
              "      <td>Chennai</td>\n",
              "      <td>2011</td>\n",
              "      <td>46000</td>\n",
              "      <td>Petrol</td>\n",
              "      <td>Manual</td>\n",
              "      <td>First</td>\n",
              "      <td>18.2 kmpl</td>\n",
              "      <td>1199 CC</td>\n",
              "      <td>88.7 bhp</td>\n",
              "      <td>5.0</td>\n",
              "      <td>8.61 Lakh</td>\n",
              "      <td>4.50</td>\n",
              "    </tr>\n",
              "    <tr>\n",
              "      <th>3</th>\n",
              "      <td>3</td>\n",
              "      <td>Maruti Ertiga VDI</td>\n",
              "      <td>Chennai</td>\n",
              "      <td>2012</td>\n",
              "      <td>87000</td>\n",
              "      <td>Diesel</td>\n",
              "      <td>Manual</td>\n",
              "      <td>First</td>\n",
              "      <td>20.77 kmpl</td>\n",
              "      <td>1248 CC</td>\n",
              "      <td>88.76 bhp</td>\n",
              "      <td>7.0</td>\n",
              "      <td>NaN</td>\n",
              "      <td>6.00</td>\n",
              "    </tr>\n",
              "    <tr>\n",
              "      <th>4</th>\n",
              "      <td>4</td>\n",
              "      <td>Audi A4 New 2.0 TDI Multitronic</td>\n",
              "      <td>Coimbatore</td>\n",
              "      <td>2013</td>\n",
              "      <td>40670</td>\n",
              "      <td>Diesel</td>\n",
              "      <td>Automatic</td>\n",
              "      <td>Second</td>\n",
              "      <td>15.2 kmpl</td>\n",
              "      <td>1968 CC</td>\n",
              "      <td>140.8 bhp</td>\n",
              "      <td>5.0</td>\n",
              "      <td>NaN</td>\n",
              "      <td>17.74</td>\n",
              "    </tr>\n",
              "  </tbody>\n",
              "</table>\n",
              "</div>\n",
              "    <div class=\"colab-df-buttons\">\n",
              "\n",
              "  <div class=\"colab-df-container\">\n",
              "    <button class=\"colab-df-convert\" onclick=\"convertToInteractive('df-c239de3c-2376-4f64-80fc-f43bdb26efb6')\"\n",
              "            title=\"Convert this dataframe to an interactive table.\"\n",
              "            style=\"display:none;\">\n",
              "\n",
              "  <svg xmlns=\"http://www.w3.org/2000/svg\" height=\"24px\" viewBox=\"0 -960 960 960\">\n",
              "    <path d=\"M120-120v-720h720v720H120Zm60-500h600v-160H180v160Zm220 220h160v-160H400v160Zm0 220h160v-160H400v160ZM180-400h160v-160H180v160Zm440 0h160v-160H620v160ZM180-180h160v-160H180v160Zm440 0h160v-160H620v160Z\"/>\n",
              "  </svg>\n",
              "    </button>\n",
              "\n",
              "  <style>\n",
              "    .colab-df-container {\n",
              "      display:flex;\n",
              "      gap: 12px;\n",
              "    }\n",
              "\n",
              "    .colab-df-convert {\n",
              "      background-color: #E8F0FE;\n",
              "      border: none;\n",
              "      border-radius: 50%;\n",
              "      cursor: pointer;\n",
              "      display: none;\n",
              "      fill: #1967D2;\n",
              "      height: 32px;\n",
              "      padding: 0 0 0 0;\n",
              "      width: 32px;\n",
              "    }\n",
              "\n",
              "    .colab-df-convert:hover {\n",
              "      background-color: #E2EBFA;\n",
              "      box-shadow: 0px 1px 2px rgba(60, 64, 67, 0.3), 0px 1px 3px 1px rgba(60, 64, 67, 0.15);\n",
              "      fill: #174EA6;\n",
              "    }\n",
              "\n",
              "    .colab-df-buttons div {\n",
              "      margin-bottom: 4px;\n",
              "    }\n",
              "\n",
              "    [theme=dark] .colab-df-convert {\n",
              "      background-color: #3B4455;\n",
              "      fill: #D2E3FC;\n",
              "    }\n",
              "\n",
              "    [theme=dark] .colab-df-convert:hover {\n",
              "      background-color: #434B5C;\n",
              "      box-shadow: 0px 1px 3px 1px rgba(0, 0, 0, 0.15);\n",
              "      filter: drop-shadow(0px 1px 2px rgba(0, 0, 0, 0.3));\n",
              "      fill: #FFFFFF;\n",
              "    }\n",
              "  </style>\n",
              "\n",
              "    <script>\n",
              "      const buttonEl =\n",
              "        document.querySelector('#df-c239de3c-2376-4f64-80fc-f43bdb26efb6 button.colab-df-convert');\n",
              "      buttonEl.style.display =\n",
              "        google.colab.kernel.accessAllowed ? 'block' : 'none';\n",
              "\n",
              "      async function convertToInteractive(key) {\n",
              "        const element = document.querySelector('#df-c239de3c-2376-4f64-80fc-f43bdb26efb6');\n",
              "        const dataTable =\n",
              "          await google.colab.kernel.invokeFunction('convertToInteractive',\n",
              "                                                    [key], {});\n",
              "        if (!dataTable) return;\n",
              "\n",
              "        const docLinkHtml = 'Like what you see? Visit the ' +\n",
              "          '<a target=\"_blank\" href=https://colab.research.google.com/notebooks/data_table.ipynb>data table notebook</a>'\n",
              "          + ' to learn more about interactive tables.';\n",
              "        element.innerHTML = '';\n",
              "        dataTable['output_type'] = 'display_data';\n",
              "        await google.colab.output.renderOutput(dataTable, element);\n",
              "        const docLink = document.createElement('div');\n",
              "        docLink.innerHTML = docLinkHtml;\n",
              "        element.appendChild(docLink);\n",
              "      }\n",
              "    </script>\n",
              "  </div>\n",
              "\n",
              "\n",
              "<div id=\"df-62364007-ac97-4c7c-89bd-55a1836d7aa5\">\n",
              "  <button class=\"colab-df-quickchart\" onclick=\"quickchart('df-62364007-ac97-4c7c-89bd-55a1836d7aa5')\"\n",
              "            title=\"Suggest charts\"\n",
              "            style=\"display:none;\">\n",
              "\n",
              "<svg xmlns=\"http://www.w3.org/2000/svg\" height=\"24px\"viewBox=\"0 0 24 24\"\n",
              "     width=\"24px\">\n",
              "    <g>\n",
              "        <path d=\"M19 3H5c-1.1 0-2 .9-2 2v14c0 1.1.9 2 2 2h14c1.1 0 2-.9 2-2V5c0-1.1-.9-2-2-2zM9 17H7v-7h2v7zm4 0h-2V7h2v10zm4 0h-2v-4h2v4z\"/>\n",
              "    </g>\n",
              "</svg>\n",
              "  </button>\n",
              "\n",
              "<style>\n",
              "  .colab-df-quickchart {\n",
              "      --bg-color: #E8F0FE;\n",
              "      --fill-color: #1967D2;\n",
              "      --hover-bg-color: #E2EBFA;\n",
              "      --hover-fill-color: #174EA6;\n",
              "      --disabled-fill-color: #AAA;\n",
              "      --disabled-bg-color: #DDD;\n",
              "  }\n",
              "\n",
              "  [theme=dark] .colab-df-quickchart {\n",
              "      --bg-color: #3B4455;\n",
              "      --fill-color: #D2E3FC;\n",
              "      --hover-bg-color: #434B5C;\n",
              "      --hover-fill-color: #FFFFFF;\n",
              "      --disabled-bg-color: #3B4455;\n",
              "      --disabled-fill-color: #666;\n",
              "  }\n",
              "\n",
              "  .colab-df-quickchart {\n",
              "    background-color: var(--bg-color);\n",
              "    border: none;\n",
              "    border-radius: 50%;\n",
              "    cursor: pointer;\n",
              "    display: none;\n",
              "    fill: var(--fill-color);\n",
              "    height: 32px;\n",
              "    padding: 0;\n",
              "    width: 32px;\n",
              "  }\n",
              "\n",
              "  .colab-df-quickchart:hover {\n",
              "    background-color: var(--hover-bg-color);\n",
              "    box-shadow: 0 1px 2px rgba(60, 64, 67, 0.3), 0 1px 3px 1px rgba(60, 64, 67, 0.15);\n",
              "    fill: var(--button-hover-fill-color);\n",
              "  }\n",
              "\n",
              "  .colab-df-quickchart-complete:disabled,\n",
              "  .colab-df-quickchart-complete:disabled:hover {\n",
              "    background-color: var(--disabled-bg-color);\n",
              "    fill: var(--disabled-fill-color);\n",
              "    box-shadow: none;\n",
              "  }\n",
              "\n",
              "  .colab-df-spinner {\n",
              "    border: 2px solid var(--fill-color);\n",
              "    border-color: transparent;\n",
              "    border-bottom-color: var(--fill-color);\n",
              "    animation:\n",
              "      spin 1s steps(1) infinite;\n",
              "  }\n",
              "\n",
              "  @keyframes spin {\n",
              "    0% {\n",
              "      border-color: transparent;\n",
              "      border-bottom-color: var(--fill-color);\n",
              "      border-left-color: var(--fill-color);\n",
              "    }\n",
              "    20% {\n",
              "      border-color: transparent;\n",
              "      border-left-color: var(--fill-color);\n",
              "      border-top-color: var(--fill-color);\n",
              "    }\n",
              "    30% {\n",
              "      border-color: transparent;\n",
              "      border-left-color: var(--fill-color);\n",
              "      border-top-color: var(--fill-color);\n",
              "      border-right-color: var(--fill-color);\n",
              "    }\n",
              "    40% {\n",
              "      border-color: transparent;\n",
              "      border-right-color: var(--fill-color);\n",
              "      border-top-color: var(--fill-color);\n",
              "    }\n",
              "    60% {\n",
              "      border-color: transparent;\n",
              "      border-right-color: var(--fill-color);\n",
              "    }\n",
              "    80% {\n",
              "      border-color: transparent;\n",
              "      border-right-color: var(--fill-color);\n",
              "      border-bottom-color: var(--fill-color);\n",
              "    }\n",
              "    90% {\n",
              "      border-color: transparent;\n",
              "      border-bottom-color: var(--fill-color);\n",
              "    }\n",
              "  }\n",
              "</style>\n",
              "\n",
              "  <script>\n",
              "    async function quickchart(key) {\n",
              "      const quickchartButtonEl =\n",
              "        document.querySelector('#' + key + ' button');\n",
              "      quickchartButtonEl.disabled = true;  // To prevent multiple clicks.\n",
              "      quickchartButtonEl.classList.add('colab-df-spinner');\n",
              "      try {\n",
              "        const charts = await google.colab.kernel.invokeFunction(\n",
              "            'suggestCharts', [key], {});\n",
              "      } catch (error) {\n",
              "        console.error('Error during call to suggestCharts:', error);\n",
              "      }\n",
              "      quickchartButtonEl.classList.remove('colab-df-spinner');\n",
              "      quickchartButtonEl.classList.add('colab-df-quickchart-complete');\n",
              "    }\n",
              "    (() => {\n",
              "      let quickchartButtonEl =\n",
              "        document.querySelector('#df-62364007-ac97-4c7c-89bd-55a1836d7aa5 button');\n",
              "      quickchartButtonEl.style.display =\n",
              "        google.colab.kernel.accessAllowed ? 'block' : 'none';\n",
              "    })();\n",
              "  </script>\n",
              "</div>\n",
              "\n",
              "    </div>\n",
              "  </div>\n"
            ],
            "application/vnd.google.colaboratory.intrinsic+json": {
              "type": "dataframe",
              "variable_name": "df",
              "summary": "{\n  \"name\": \"df\",\n  \"rows\": 6019,\n  \"fields\": [\n    {\n      \"column\": \"Unnamed: 0\",\n      \"properties\": {\n        \"dtype\": \"number\",\n        \"std\": 1737,\n        \"min\": 0,\n        \"max\": 6018,\n        \"num_unique_values\": 6019,\n        \"samples\": [\n          2868,\n          5924,\n          3764\n        ],\n        \"semantic_type\": \"\",\n        \"description\": \"\"\n      }\n    },\n    {\n      \"column\": \"Name\",\n      \"properties\": {\n        \"dtype\": \"category\",\n        \"num_unique_values\": 1876,\n        \"samples\": [\n          \"Hyundai i20 1.2 Era\",\n          \"Toyota Corolla Altis GL MT\",\n          \"BMW 5 Series 2013-2017 520d Luxury Line\"\n        ],\n        \"semantic_type\": \"\",\n        \"description\": \"\"\n      }\n    },\n    {\n      \"column\": \"Location\",\n      \"properties\": {\n        \"dtype\": \"category\",\n        \"num_unique_values\": 11,\n        \"samples\": [\n          \"Jaipur\",\n          \"Mumbai\",\n          \"Bangalore\"\n        ],\n        \"semantic_type\": \"\",\n        \"description\": \"\"\n      }\n    },\n    {\n      \"column\": \"Year\",\n      \"properties\": {\n        \"dtype\": \"number\",\n        \"std\": 3,\n        \"min\": 1998,\n        \"max\": 2019,\n        \"num_unique_values\": 22,\n        \"samples\": [\n          2010,\n          2006,\n          2017\n        ],\n        \"semantic_type\": \"\",\n        \"description\": \"\"\n      }\n    },\n    {\n      \"column\": \"Kilometers_Driven\",\n      \"properties\": {\n        \"dtype\": \"number\",\n        \"std\": 91268,\n        \"min\": 171,\n        \"max\": 6500000,\n        \"num_unique_values\": 3093,\n        \"samples\": [\n          66484,\n          20364,\n          15134\n        ],\n        \"semantic_type\": \"\",\n        \"description\": \"\"\n      }\n    },\n    {\n      \"column\": \"Fuel_Type\",\n      \"properties\": {\n        \"dtype\": \"category\",\n        \"num_unique_values\": 5,\n        \"samples\": [\n          \"Diesel\",\n          \"Electric\",\n          \"Petrol\"\n        ],\n        \"semantic_type\": \"\",\n        \"description\": \"\"\n      }\n    },\n    {\n      \"column\": \"Transmission\",\n      \"properties\": {\n        \"dtype\": \"category\",\n        \"num_unique_values\": 2,\n        \"samples\": [\n          \"Automatic\",\n          \"Manual\"\n        ],\n        \"semantic_type\": \"\",\n        \"description\": \"\"\n      }\n    },\n    {\n      \"column\": \"Owner_Type\",\n      \"properties\": {\n        \"dtype\": \"category\",\n        \"num_unique_values\": 4,\n        \"samples\": [\n          \"Second\",\n          \"Third\"\n        ],\n        \"semantic_type\": \"\",\n        \"description\": \"\"\n      }\n    },\n    {\n      \"column\": \"Mileage\",\n      \"properties\": {\n        \"dtype\": \"category\",\n        \"num_unique_values\": 442,\n        \"samples\": [\n          \"19.6 kmpl\",\n          \"14.6 kmpl\"\n        ],\n        \"semantic_type\": \"\",\n        \"description\": \"\"\n      }\n    },\n    {\n      \"column\": \"Engine\",\n      \"properties\": {\n        \"dtype\": \"category\",\n        \"num_unique_values\": 146,\n        \"samples\": [\n          \"2967 CC\",\n          \"1978 CC\"\n        ],\n        \"semantic_type\": \"\",\n        \"description\": \"\"\n      }\n    },\n    {\n      \"column\": \"Power\",\n      \"properties\": {\n        \"dtype\": \"category\",\n        \"num_unique_values\": 372,\n        \"samples\": [\n          \"402 bhp\",\n          \"46.3 bhp\"\n        ],\n        \"semantic_type\": \"\",\n        \"description\": \"\"\n      }\n    },\n    {\n      \"column\": \"Seats\",\n      \"properties\": {\n        \"dtype\": \"number\",\n        \"std\": 0.8088395547482927,\n        \"min\": 0.0,\n        \"max\": 10.0,\n        \"num_unique_values\": 9,\n        \"samples\": [\n          9.0,\n          7.0\n        ],\n        \"semantic_type\": \"\",\n        \"description\": \"\"\n      }\n    },\n    {\n      \"column\": \"New_Price\",\n      \"properties\": {\n        \"dtype\": \"category\",\n        \"num_unique_values\": 540,\n        \"samples\": [\n          \"12.88 Lakh\",\n          \"14.84 Lakh\"\n        ],\n        \"semantic_type\": \"\",\n        \"description\": \"\"\n      }\n    },\n    {\n      \"column\": \"Price\",\n      \"properties\": {\n        \"dtype\": \"number\",\n        \"std\": 11.1879171124555,\n        \"min\": 0.44,\n        \"max\": 160.0,\n        \"num_unique_values\": 1373,\n        \"samples\": [\n          10.99,\n          45.86\n        ],\n        \"semantic_type\": \"\",\n        \"description\": \"\"\n      }\n    }\n  ]\n}"
            }
          },
          "metadata": {},
          "execution_count": 11
        }
      ],
      "source": [
        "df.head()"
      ]
    },
    {
      "cell_type": "markdown",
      "metadata": {
        "id": "BVxdM-CBN5px"
      },
      "source": [
        "### Now lets have a look at the last 5 rows in the dataframe!"
      ]
    },
    {
      "cell_type": "code",
      "execution_count": null,
      "metadata": {
        "colab": {
          "base_uri": "https://localhost:8080/",
          "height": 399
        },
        "id": "sY0SyYolN5px",
        "outputId": "6be6807b-089b-44df-ee6f-0602f97bff18"
      },
      "outputs": [
        {
          "output_type": "execute_result",
          "data": {
            "text/plain": [
              "      Unnamed: 0                      Name   Location  Year  \\\n",
              "6014        6014          Maruti Swift VDI      Delhi  2014   \n",
              "6015        6015  Hyundai Xcent 1.1 CRDi S     Jaipur  2015   \n",
              "6016        6016     Mahindra Xylo D4 BSIV     Jaipur  2012   \n",
              "6017        6017        Maruti Wagon R VXI    Kolkata  2013   \n",
              "6018        6018     Chevrolet Beat Diesel  Hyderabad  2011   \n",
              "\n",
              "      Kilometers_Driven Fuel_Type Transmission Owner_Type     Mileage  \\\n",
              "6014              27365    Diesel       Manual      First   28.4 kmpl   \n",
              "6015             100000    Diesel       Manual      First   24.4 kmpl   \n",
              "6016              55000    Diesel       Manual     Second   14.0 kmpl   \n",
              "6017              46000    Petrol       Manual      First   18.9 kmpl   \n",
              "6018              47000    Diesel       Manual      First  25.44 kmpl   \n",
              "\n",
              "       Engine     Power  Seats  New_Price  Price  \n",
              "6014  1248 CC    74 bhp    5.0  7.88 Lakh   4.75  \n",
              "6015  1120 CC    71 bhp    5.0        NaN   4.00  \n",
              "6016  2498 CC   112 bhp    8.0        NaN   2.90  \n",
              "6017   998 CC  67.1 bhp    5.0        NaN   2.65  \n",
              "6018   936 CC  57.6 bhp    5.0        NaN   2.50  "
            ],
            "text/html": [
              "\n",
              "  <div id=\"df-085c5f1c-828b-468e-bf22-d95868fbf09c\" class=\"colab-df-container\">\n",
              "    <div>\n",
              "<style scoped>\n",
              "    .dataframe tbody tr th:only-of-type {\n",
              "        vertical-align: middle;\n",
              "    }\n",
              "\n",
              "    .dataframe tbody tr th {\n",
              "        vertical-align: top;\n",
              "    }\n",
              "\n",
              "    .dataframe thead th {\n",
              "        text-align: right;\n",
              "    }\n",
              "</style>\n",
              "<table border=\"1\" class=\"dataframe\">\n",
              "  <thead>\n",
              "    <tr style=\"text-align: right;\">\n",
              "      <th></th>\n",
              "      <th>Unnamed: 0</th>\n",
              "      <th>Name</th>\n",
              "      <th>Location</th>\n",
              "      <th>Year</th>\n",
              "      <th>Kilometers_Driven</th>\n",
              "      <th>Fuel_Type</th>\n",
              "      <th>Transmission</th>\n",
              "      <th>Owner_Type</th>\n",
              "      <th>Mileage</th>\n",
              "      <th>Engine</th>\n",
              "      <th>Power</th>\n",
              "      <th>Seats</th>\n",
              "      <th>New_Price</th>\n",
              "      <th>Price</th>\n",
              "    </tr>\n",
              "  </thead>\n",
              "  <tbody>\n",
              "    <tr>\n",
              "      <th>6014</th>\n",
              "      <td>6014</td>\n",
              "      <td>Maruti Swift VDI</td>\n",
              "      <td>Delhi</td>\n",
              "      <td>2014</td>\n",
              "      <td>27365</td>\n",
              "      <td>Diesel</td>\n",
              "      <td>Manual</td>\n",
              "      <td>First</td>\n",
              "      <td>28.4 kmpl</td>\n",
              "      <td>1248 CC</td>\n",
              "      <td>74 bhp</td>\n",
              "      <td>5.0</td>\n",
              "      <td>7.88 Lakh</td>\n",
              "      <td>4.75</td>\n",
              "    </tr>\n",
              "    <tr>\n",
              "      <th>6015</th>\n",
              "      <td>6015</td>\n",
              "      <td>Hyundai Xcent 1.1 CRDi S</td>\n",
              "      <td>Jaipur</td>\n",
              "      <td>2015</td>\n",
              "      <td>100000</td>\n",
              "      <td>Diesel</td>\n",
              "      <td>Manual</td>\n",
              "      <td>First</td>\n",
              "      <td>24.4 kmpl</td>\n",
              "      <td>1120 CC</td>\n",
              "      <td>71 bhp</td>\n",
              "      <td>5.0</td>\n",
              "      <td>NaN</td>\n",
              "      <td>4.00</td>\n",
              "    </tr>\n",
              "    <tr>\n",
              "      <th>6016</th>\n",
              "      <td>6016</td>\n",
              "      <td>Mahindra Xylo D4 BSIV</td>\n",
              "      <td>Jaipur</td>\n",
              "      <td>2012</td>\n",
              "      <td>55000</td>\n",
              "      <td>Diesel</td>\n",
              "      <td>Manual</td>\n",
              "      <td>Second</td>\n",
              "      <td>14.0 kmpl</td>\n",
              "      <td>2498 CC</td>\n",
              "      <td>112 bhp</td>\n",
              "      <td>8.0</td>\n",
              "      <td>NaN</td>\n",
              "      <td>2.90</td>\n",
              "    </tr>\n",
              "    <tr>\n",
              "      <th>6017</th>\n",
              "      <td>6017</td>\n",
              "      <td>Maruti Wagon R VXI</td>\n",
              "      <td>Kolkata</td>\n",
              "      <td>2013</td>\n",
              "      <td>46000</td>\n",
              "      <td>Petrol</td>\n",
              "      <td>Manual</td>\n",
              "      <td>First</td>\n",
              "      <td>18.9 kmpl</td>\n",
              "      <td>998 CC</td>\n",
              "      <td>67.1 bhp</td>\n",
              "      <td>5.0</td>\n",
              "      <td>NaN</td>\n",
              "      <td>2.65</td>\n",
              "    </tr>\n",
              "    <tr>\n",
              "      <th>6018</th>\n",
              "      <td>6018</td>\n",
              "      <td>Chevrolet Beat Diesel</td>\n",
              "      <td>Hyderabad</td>\n",
              "      <td>2011</td>\n",
              "      <td>47000</td>\n",
              "      <td>Diesel</td>\n",
              "      <td>Manual</td>\n",
              "      <td>First</td>\n",
              "      <td>25.44 kmpl</td>\n",
              "      <td>936 CC</td>\n",
              "      <td>57.6 bhp</td>\n",
              "      <td>5.0</td>\n",
              "      <td>NaN</td>\n",
              "      <td>2.50</td>\n",
              "    </tr>\n",
              "  </tbody>\n",
              "</table>\n",
              "</div>\n",
              "    <div class=\"colab-df-buttons\">\n",
              "\n",
              "  <div class=\"colab-df-container\">\n",
              "    <button class=\"colab-df-convert\" onclick=\"convertToInteractive('df-085c5f1c-828b-468e-bf22-d95868fbf09c')\"\n",
              "            title=\"Convert this dataframe to an interactive table.\"\n",
              "            style=\"display:none;\">\n",
              "\n",
              "  <svg xmlns=\"http://www.w3.org/2000/svg\" height=\"24px\" viewBox=\"0 -960 960 960\">\n",
              "    <path d=\"M120-120v-720h720v720H120Zm60-500h600v-160H180v160Zm220 220h160v-160H400v160Zm0 220h160v-160H400v160ZM180-400h160v-160H180v160Zm440 0h160v-160H620v160ZM180-180h160v-160H180v160Zm440 0h160v-160H620v160Z\"/>\n",
              "  </svg>\n",
              "    </button>\n",
              "\n",
              "  <style>\n",
              "    .colab-df-container {\n",
              "      display:flex;\n",
              "      gap: 12px;\n",
              "    }\n",
              "\n",
              "    .colab-df-convert {\n",
              "      background-color: #E8F0FE;\n",
              "      border: none;\n",
              "      border-radius: 50%;\n",
              "      cursor: pointer;\n",
              "      display: none;\n",
              "      fill: #1967D2;\n",
              "      height: 32px;\n",
              "      padding: 0 0 0 0;\n",
              "      width: 32px;\n",
              "    }\n",
              "\n",
              "    .colab-df-convert:hover {\n",
              "      background-color: #E2EBFA;\n",
              "      box-shadow: 0px 1px 2px rgba(60, 64, 67, 0.3), 0px 1px 3px 1px rgba(60, 64, 67, 0.15);\n",
              "      fill: #174EA6;\n",
              "    }\n",
              "\n",
              "    .colab-df-buttons div {\n",
              "      margin-bottom: 4px;\n",
              "    }\n",
              "\n",
              "    [theme=dark] .colab-df-convert {\n",
              "      background-color: #3B4455;\n",
              "      fill: #D2E3FC;\n",
              "    }\n",
              "\n",
              "    [theme=dark] .colab-df-convert:hover {\n",
              "      background-color: #434B5C;\n",
              "      box-shadow: 0px 1px 3px 1px rgba(0, 0, 0, 0.15);\n",
              "      filter: drop-shadow(0px 1px 2px rgba(0, 0, 0, 0.3));\n",
              "      fill: #FFFFFF;\n",
              "    }\n",
              "  </style>\n",
              "\n",
              "    <script>\n",
              "      const buttonEl =\n",
              "        document.querySelector('#df-085c5f1c-828b-468e-bf22-d95868fbf09c button.colab-df-convert');\n",
              "      buttonEl.style.display =\n",
              "        google.colab.kernel.accessAllowed ? 'block' : 'none';\n",
              "\n",
              "      async function convertToInteractive(key) {\n",
              "        const element = document.querySelector('#df-085c5f1c-828b-468e-bf22-d95868fbf09c');\n",
              "        const dataTable =\n",
              "          await google.colab.kernel.invokeFunction('convertToInteractive',\n",
              "                                                    [key], {});\n",
              "        if (!dataTable) return;\n",
              "\n",
              "        const docLinkHtml = 'Like what you see? Visit the ' +\n",
              "          '<a target=\"_blank\" href=https://colab.research.google.com/notebooks/data_table.ipynb>data table notebook</a>'\n",
              "          + ' to learn more about interactive tables.';\n",
              "        element.innerHTML = '';\n",
              "        dataTable['output_type'] = 'display_data';\n",
              "        await google.colab.output.renderOutput(dataTable, element);\n",
              "        const docLink = document.createElement('div');\n",
              "        docLink.innerHTML = docLinkHtml;\n",
              "        element.appendChild(docLink);\n",
              "      }\n",
              "    </script>\n",
              "  </div>\n",
              "\n",
              "\n",
              "<div id=\"df-eec5bb8b-1740-4aa6-b7ff-63b65af36873\">\n",
              "  <button class=\"colab-df-quickchart\" onclick=\"quickchart('df-eec5bb8b-1740-4aa6-b7ff-63b65af36873')\"\n",
              "            title=\"Suggest charts\"\n",
              "            style=\"display:none;\">\n",
              "\n",
              "<svg xmlns=\"http://www.w3.org/2000/svg\" height=\"24px\"viewBox=\"0 0 24 24\"\n",
              "     width=\"24px\">\n",
              "    <g>\n",
              "        <path d=\"M19 3H5c-1.1 0-2 .9-2 2v14c0 1.1.9 2 2 2h14c1.1 0 2-.9 2-2V5c0-1.1-.9-2-2-2zM9 17H7v-7h2v7zm4 0h-2V7h2v10zm4 0h-2v-4h2v4z\"/>\n",
              "    </g>\n",
              "</svg>\n",
              "  </button>\n",
              "\n",
              "<style>\n",
              "  .colab-df-quickchart {\n",
              "      --bg-color: #E8F0FE;\n",
              "      --fill-color: #1967D2;\n",
              "      --hover-bg-color: #E2EBFA;\n",
              "      --hover-fill-color: #174EA6;\n",
              "      --disabled-fill-color: #AAA;\n",
              "      --disabled-bg-color: #DDD;\n",
              "  }\n",
              "\n",
              "  [theme=dark] .colab-df-quickchart {\n",
              "      --bg-color: #3B4455;\n",
              "      --fill-color: #D2E3FC;\n",
              "      --hover-bg-color: #434B5C;\n",
              "      --hover-fill-color: #FFFFFF;\n",
              "      --disabled-bg-color: #3B4455;\n",
              "      --disabled-fill-color: #666;\n",
              "  }\n",
              "\n",
              "  .colab-df-quickchart {\n",
              "    background-color: var(--bg-color);\n",
              "    border: none;\n",
              "    border-radius: 50%;\n",
              "    cursor: pointer;\n",
              "    display: none;\n",
              "    fill: var(--fill-color);\n",
              "    height: 32px;\n",
              "    padding: 0;\n",
              "    width: 32px;\n",
              "  }\n",
              "\n",
              "  .colab-df-quickchart:hover {\n",
              "    background-color: var(--hover-bg-color);\n",
              "    box-shadow: 0 1px 2px rgba(60, 64, 67, 0.3), 0 1px 3px 1px rgba(60, 64, 67, 0.15);\n",
              "    fill: var(--button-hover-fill-color);\n",
              "  }\n",
              "\n",
              "  .colab-df-quickchart-complete:disabled,\n",
              "  .colab-df-quickchart-complete:disabled:hover {\n",
              "    background-color: var(--disabled-bg-color);\n",
              "    fill: var(--disabled-fill-color);\n",
              "    box-shadow: none;\n",
              "  }\n",
              "\n",
              "  .colab-df-spinner {\n",
              "    border: 2px solid var(--fill-color);\n",
              "    border-color: transparent;\n",
              "    border-bottom-color: var(--fill-color);\n",
              "    animation:\n",
              "      spin 1s steps(1) infinite;\n",
              "  }\n",
              "\n",
              "  @keyframes spin {\n",
              "    0% {\n",
              "      border-color: transparent;\n",
              "      border-bottom-color: var(--fill-color);\n",
              "      border-left-color: var(--fill-color);\n",
              "    }\n",
              "    20% {\n",
              "      border-color: transparent;\n",
              "      border-left-color: var(--fill-color);\n",
              "      border-top-color: var(--fill-color);\n",
              "    }\n",
              "    30% {\n",
              "      border-color: transparent;\n",
              "      border-left-color: var(--fill-color);\n",
              "      border-top-color: var(--fill-color);\n",
              "      border-right-color: var(--fill-color);\n",
              "    }\n",
              "    40% {\n",
              "      border-color: transparent;\n",
              "      border-right-color: var(--fill-color);\n",
              "      border-top-color: var(--fill-color);\n",
              "    }\n",
              "    60% {\n",
              "      border-color: transparent;\n",
              "      border-right-color: var(--fill-color);\n",
              "    }\n",
              "    80% {\n",
              "      border-color: transparent;\n",
              "      border-right-color: var(--fill-color);\n",
              "      border-bottom-color: var(--fill-color);\n",
              "    }\n",
              "    90% {\n",
              "      border-color: transparent;\n",
              "      border-bottom-color: var(--fill-color);\n",
              "    }\n",
              "  }\n",
              "</style>\n",
              "\n",
              "  <script>\n",
              "    async function quickchart(key) {\n",
              "      const quickchartButtonEl =\n",
              "        document.querySelector('#' + key + ' button');\n",
              "      quickchartButtonEl.disabled = true;  // To prevent multiple clicks.\n",
              "      quickchartButtonEl.classList.add('colab-df-spinner');\n",
              "      try {\n",
              "        const charts = await google.colab.kernel.invokeFunction(\n",
              "            'suggestCharts', [key], {});\n",
              "      } catch (error) {\n",
              "        console.error('Error during call to suggestCharts:', error);\n",
              "      }\n",
              "      quickchartButtonEl.classList.remove('colab-df-spinner');\n",
              "      quickchartButtonEl.classList.add('colab-df-quickchart-complete');\n",
              "    }\n",
              "    (() => {\n",
              "      let quickchartButtonEl =\n",
              "        document.querySelector('#df-eec5bb8b-1740-4aa6-b7ff-63b65af36873 button');\n",
              "      quickchartButtonEl.style.display =\n",
              "        google.colab.kernel.accessAllowed ? 'block' : 'none';\n",
              "    })();\n",
              "  </script>\n",
              "</div>\n",
              "\n",
              "    </div>\n",
              "  </div>\n"
            ],
            "application/vnd.google.colaboratory.intrinsic+json": {
              "type": "dataframe",
              "summary": "{\n  \"name\": \"df\",\n  \"rows\": 5,\n  \"fields\": [\n    {\n      \"column\": \"Unnamed: 0\",\n      \"properties\": {\n        \"dtype\": \"number\",\n        \"std\": 1,\n        \"min\": 6014,\n        \"max\": 6018,\n        \"num_unique_values\": 5,\n        \"samples\": [\n          6015,\n          6018,\n          6016\n        ],\n        \"semantic_type\": \"\",\n        \"description\": \"\"\n      }\n    },\n    {\n      \"column\": \"Name\",\n      \"properties\": {\n        \"dtype\": \"string\",\n        \"num_unique_values\": 5,\n        \"samples\": [\n          \"Hyundai Xcent 1.1 CRDi S\",\n          \"Chevrolet Beat Diesel\",\n          \"Mahindra Xylo D4 BSIV\"\n        ],\n        \"semantic_type\": \"\",\n        \"description\": \"\"\n      }\n    },\n    {\n      \"column\": \"Location\",\n      \"properties\": {\n        \"dtype\": \"string\",\n        \"num_unique_values\": 4,\n        \"samples\": [\n          \"Jaipur\",\n          \"Hyderabad\",\n          \"Delhi\"\n        ],\n        \"semantic_type\": \"\",\n        \"description\": \"\"\n      }\n    },\n    {\n      \"column\": \"Year\",\n      \"properties\": {\n        \"dtype\": \"number\",\n        \"std\": 1,\n        \"min\": 2011,\n        \"max\": 2015,\n        \"num_unique_values\": 5,\n        \"samples\": [\n          2015,\n          2011,\n          2012\n        ],\n        \"semantic_type\": \"\",\n        \"description\": \"\"\n      }\n    },\n    {\n      \"column\": \"Kilometers_Driven\",\n      \"properties\": {\n        \"dtype\": \"number\",\n        \"std\": 27081,\n        \"min\": 27365,\n        \"max\": 100000,\n        \"num_unique_values\": 5,\n        \"samples\": [\n          100000,\n          47000,\n          55000\n        ],\n        \"semantic_type\": \"\",\n        \"description\": \"\"\n      }\n    },\n    {\n      \"column\": \"Fuel_Type\",\n      \"properties\": {\n        \"dtype\": \"category\",\n        \"num_unique_values\": 2,\n        \"samples\": [\n          \"Petrol\",\n          \"Diesel\"\n        ],\n        \"semantic_type\": \"\",\n        \"description\": \"\"\n      }\n    },\n    {\n      \"column\": \"Transmission\",\n      \"properties\": {\n        \"dtype\": \"category\",\n        \"num_unique_values\": 1,\n        \"samples\": [\n          \"Manual\"\n        ],\n        \"semantic_type\": \"\",\n        \"description\": \"\"\n      }\n    },\n    {\n      \"column\": \"Owner_Type\",\n      \"properties\": {\n        \"dtype\": \"category\",\n        \"num_unique_values\": 2,\n        \"samples\": [\n          \"Second\"\n        ],\n        \"semantic_type\": \"\",\n        \"description\": \"\"\n      }\n    },\n    {\n      \"column\": \"Mileage\",\n      \"properties\": {\n        \"dtype\": \"string\",\n        \"num_unique_values\": 5,\n        \"samples\": [\n          \"24.4 kmpl\"\n        ],\n        \"semantic_type\": \"\",\n        \"description\": \"\"\n      }\n    },\n    {\n      \"column\": \"Engine\",\n      \"properties\": {\n        \"dtype\": \"string\",\n        \"num_unique_values\": 5,\n        \"samples\": [\n          \"1120 CC\"\n        ],\n        \"semantic_type\": \"\",\n        \"description\": \"\"\n      }\n    },\n    {\n      \"column\": \"Power\",\n      \"properties\": {\n        \"dtype\": \"string\",\n        \"num_unique_values\": 5,\n        \"samples\": [\n          \"71 bhp\"\n        ],\n        \"semantic_type\": \"\",\n        \"description\": \"\"\n      }\n    },\n    {\n      \"column\": \"Seats\",\n      \"properties\": {\n        \"dtype\": \"number\",\n        \"std\": 1.3416407864998738,\n        \"min\": 5.0,\n        \"max\": 8.0,\n        \"num_unique_values\": 2,\n        \"samples\": [\n          8.0\n        ],\n        \"semantic_type\": \"\",\n        \"description\": \"\"\n      }\n    },\n    {\n      \"column\": \"New_Price\",\n      \"properties\": {\n        \"dtype\": \"category\",\n        \"num_unique_values\": 1,\n        \"samples\": [\n          \"7.88 Lakh\"\n        ],\n        \"semantic_type\": \"\",\n        \"description\": \"\"\n      }\n    },\n    {\n      \"column\": \"Price\",\n      \"properties\": {\n        \"dtype\": \"number\",\n        \"std\": 0.9742946166329772,\n        \"min\": 2.5,\n        \"max\": 4.75,\n        \"num_unique_values\": 5,\n        \"samples\": [\n          4.0\n        ],\n        \"semantic_type\": \"\",\n        \"description\": \"\"\n      }\n    }\n  ]\n}"
            }
          },
          "metadata": {},
          "execution_count": 12
        }
      ],
      "source": [
        "df.tail()"
      ]
    },
    {
      "cell_type": "markdown",
      "metadata": {
        "id": "1vTVrDpiN5px"
      },
      "source": [
        "### Now lets take a random sample from dataframe!"
      ]
    },
    {
      "cell_type": "code",
      "execution_count": null,
      "metadata": {
        "colab": {
          "base_uri": "https://localhost:8080/",
          "height": 132
        },
        "id": "bAYyzAL1N5px",
        "outputId": "050b737d-9653-4d0a-b964-7646aeae747e"
      },
      "outputs": [
        {
          "output_type": "execute_result",
          "data": {
            "text/plain": [
              "      Unnamed: 0                     Name Location  Year  Kilometers_Driven  \\\n",
              "5136        5136  Maruti Alto K10 VXI AGS   Jaipur  2017              18491   \n",
              "\n",
              "     Fuel_Type Transmission Owner_Type     Mileage  Engine     Power  Seats  \\\n",
              "5136    Petrol    Automatic      First  24.07 kmpl  998 CC  67.1 bhp    5.0   \n",
              "\n",
              "     New_Price  Price  \n",
              "5136       NaN    3.9  "
            ],
            "text/html": [
              "\n",
              "  <div id=\"df-3b773fd4-b1ff-4682-ab34-0b14522bd01c\" class=\"colab-df-container\">\n",
              "    <div>\n",
              "<style scoped>\n",
              "    .dataframe tbody tr th:only-of-type {\n",
              "        vertical-align: middle;\n",
              "    }\n",
              "\n",
              "    .dataframe tbody tr th {\n",
              "        vertical-align: top;\n",
              "    }\n",
              "\n",
              "    .dataframe thead th {\n",
              "        text-align: right;\n",
              "    }\n",
              "</style>\n",
              "<table border=\"1\" class=\"dataframe\">\n",
              "  <thead>\n",
              "    <tr style=\"text-align: right;\">\n",
              "      <th></th>\n",
              "      <th>Unnamed: 0</th>\n",
              "      <th>Name</th>\n",
              "      <th>Location</th>\n",
              "      <th>Year</th>\n",
              "      <th>Kilometers_Driven</th>\n",
              "      <th>Fuel_Type</th>\n",
              "      <th>Transmission</th>\n",
              "      <th>Owner_Type</th>\n",
              "      <th>Mileage</th>\n",
              "      <th>Engine</th>\n",
              "      <th>Power</th>\n",
              "      <th>Seats</th>\n",
              "      <th>New_Price</th>\n",
              "      <th>Price</th>\n",
              "    </tr>\n",
              "  </thead>\n",
              "  <tbody>\n",
              "    <tr>\n",
              "      <th>5136</th>\n",
              "      <td>5136</td>\n",
              "      <td>Maruti Alto K10 VXI AGS</td>\n",
              "      <td>Jaipur</td>\n",
              "      <td>2017</td>\n",
              "      <td>18491</td>\n",
              "      <td>Petrol</td>\n",
              "      <td>Automatic</td>\n",
              "      <td>First</td>\n",
              "      <td>24.07 kmpl</td>\n",
              "      <td>998 CC</td>\n",
              "      <td>67.1 bhp</td>\n",
              "      <td>5.0</td>\n",
              "      <td>NaN</td>\n",
              "      <td>3.9</td>\n",
              "    </tr>\n",
              "  </tbody>\n",
              "</table>\n",
              "</div>\n",
              "    <div class=\"colab-df-buttons\">\n",
              "\n",
              "  <div class=\"colab-df-container\">\n",
              "    <button class=\"colab-df-convert\" onclick=\"convertToInteractive('df-3b773fd4-b1ff-4682-ab34-0b14522bd01c')\"\n",
              "            title=\"Convert this dataframe to an interactive table.\"\n",
              "            style=\"display:none;\">\n",
              "\n",
              "  <svg xmlns=\"http://www.w3.org/2000/svg\" height=\"24px\" viewBox=\"0 -960 960 960\">\n",
              "    <path d=\"M120-120v-720h720v720H120Zm60-500h600v-160H180v160Zm220 220h160v-160H400v160Zm0 220h160v-160H400v160ZM180-400h160v-160H180v160Zm440 0h160v-160H620v160ZM180-180h160v-160H180v160Zm440 0h160v-160H620v160Z\"/>\n",
              "  </svg>\n",
              "    </button>\n",
              "\n",
              "  <style>\n",
              "    .colab-df-container {\n",
              "      display:flex;\n",
              "      gap: 12px;\n",
              "    }\n",
              "\n",
              "    .colab-df-convert {\n",
              "      background-color: #E8F0FE;\n",
              "      border: none;\n",
              "      border-radius: 50%;\n",
              "      cursor: pointer;\n",
              "      display: none;\n",
              "      fill: #1967D2;\n",
              "      height: 32px;\n",
              "      padding: 0 0 0 0;\n",
              "      width: 32px;\n",
              "    }\n",
              "\n",
              "    .colab-df-convert:hover {\n",
              "      background-color: #E2EBFA;\n",
              "      box-shadow: 0px 1px 2px rgba(60, 64, 67, 0.3), 0px 1px 3px 1px rgba(60, 64, 67, 0.15);\n",
              "      fill: #174EA6;\n",
              "    }\n",
              "\n",
              "    .colab-df-buttons div {\n",
              "      margin-bottom: 4px;\n",
              "    }\n",
              "\n",
              "    [theme=dark] .colab-df-convert {\n",
              "      background-color: #3B4455;\n",
              "      fill: #D2E3FC;\n",
              "    }\n",
              "\n",
              "    [theme=dark] .colab-df-convert:hover {\n",
              "      background-color: #434B5C;\n",
              "      box-shadow: 0px 1px 3px 1px rgba(0, 0, 0, 0.15);\n",
              "      filter: drop-shadow(0px 1px 2px rgba(0, 0, 0, 0.3));\n",
              "      fill: #FFFFFF;\n",
              "    }\n",
              "  </style>\n",
              "\n",
              "    <script>\n",
              "      const buttonEl =\n",
              "        document.querySelector('#df-3b773fd4-b1ff-4682-ab34-0b14522bd01c button.colab-df-convert');\n",
              "      buttonEl.style.display =\n",
              "        google.colab.kernel.accessAllowed ? 'block' : 'none';\n",
              "\n",
              "      async function convertToInteractive(key) {\n",
              "        const element = document.querySelector('#df-3b773fd4-b1ff-4682-ab34-0b14522bd01c');\n",
              "        const dataTable =\n",
              "          await google.colab.kernel.invokeFunction('convertToInteractive',\n",
              "                                                    [key], {});\n",
              "        if (!dataTable) return;\n",
              "\n",
              "        const docLinkHtml = 'Like what you see? Visit the ' +\n",
              "          '<a target=\"_blank\" href=https://colab.research.google.com/notebooks/data_table.ipynb>data table notebook</a>'\n",
              "          + ' to learn more about interactive tables.';\n",
              "        element.innerHTML = '';\n",
              "        dataTable['output_type'] = 'display_data';\n",
              "        await google.colab.output.renderOutput(dataTable, element);\n",
              "        const docLink = document.createElement('div');\n",
              "        docLink.innerHTML = docLinkHtml;\n",
              "        element.appendChild(docLink);\n",
              "      }\n",
              "    </script>\n",
              "  </div>\n",
              "\n",
              "\n",
              "    </div>\n",
              "  </div>\n"
            ],
            "application/vnd.google.colaboratory.intrinsic+json": {
              "type": "dataframe",
              "repr_error": "0"
            }
          },
          "metadata": {},
          "execution_count": 13
        }
      ],
      "source": [
        "df.sample()"
      ]
    },
    {
      "cell_type": "markdown",
      "metadata": {
        "id": "4f9qWsewN5px"
      },
      "source": [
        "#### As we can see there is a coloumn that is not usefull to us which is `Unnamed: 0`; this appears to be like an index to the dataset. This is a note we have to keep in mind, now lets check for other properities in the dataframe."
      ]
    },
    {
      "cell_type": "markdown",
      "metadata": {
        "id": "fqnRA78RN5py"
      },
      "source": [
        "## Now lets have a look at the statistical information of the dataframe"
      ]
    },
    {
      "cell_type": "code",
      "execution_count": null,
      "metadata": {
        "colab": {
          "base_uri": "https://localhost:8080/",
          "height": 300
        },
        "id": "UntLDas3N5py",
        "outputId": "c0947b26-1fab-4c77-caa9-e4c833cacc83"
      },
      "outputs": [
        {
          "output_type": "execute_result",
          "data": {
            "text/plain": [
              "        Unnamed: 0         Year  Kilometers_Driven        Seats        Price\n",
              "count  6019.000000  6019.000000       6.019000e+03  5977.000000  6019.000000\n",
              "mean   3009.000000  2013.358199       5.873838e+04     5.278735     9.479468\n",
              "std    1737.679967     3.269742       9.126884e+04     0.808840    11.187917\n",
              "min       0.000000  1998.000000       1.710000e+02     0.000000     0.440000\n",
              "25%    1504.500000  2011.000000       3.400000e+04     5.000000     3.500000\n",
              "50%    3009.000000  2014.000000       5.300000e+04     5.000000     5.640000\n",
              "75%    4513.500000  2016.000000       7.300000e+04     5.000000     9.950000\n",
              "max    6018.000000  2019.000000       6.500000e+06    10.000000   160.000000"
            ],
            "text/html": [
              "\n",
              "  <div id=\"df-5d51ab08-94de-4bab-b34f-5391d6e08820\" class=\"colab-df-container\">\n",
              "    <div>\n",
              "<style scoped>\n",
              "    .dataframe tbody tr th:only-of-type {\n",
              "        vertical-align: middle;\n",
              "    }\n",
              "\n",
              "    .dataframe tbody tr th {\n",
              "        vertical-align: top;\n",
              "    }\n",
              "\n",
              "    .dataframe thead th {\n",
              "        text-align: right;\n",
              "    }\n",
              "</style>\n",
              "<table border=\"1\" class=\"dataframe\">\n",
              "  <thead>\n",
              "    <tr style=\"text-align: right;\">\n",
              "      <th></th>\n",
              "      <th>Unnamed: 0</th>\n",
              "      <th>Year</th>\n",
              "      <th>Kilometers_Driven</th>\n",
              "      <th>Seats</th>\n",
              "      <th>Price</th>\n",
              "    </tr>\n",
              "  </thead>\n",
              "  <tbody>\n",
              "    <tr>\n",
              "      <th>count</th>\n",
              "      <td>6019.000000</td>\n",
              "      <td>6019.000000</td>\n",
              "      <td>6.019000e+03</td>\n",
              "      <td>5977.000000</td>\n",
              "      <td>6019.000000</td>\n",
              "    </tr>\n",
              "    <tr>\n",
              "      <th>mean</th>\n",
              "      <td>3009.000000</td>\n",
              "      <td>2013.358199</td>\n",
              "      <td>5.873838e+04</td>\n",
              "      <td>5.278735</td>\n",
              "      <td>9.479468</td>\n",
              "    </tr>\n",
              "    <tr>\n",
              "      <th>std</th>\n",
              "      <td>1737.679967</td>\n",
              "      <td>3.269742</td>\n",
              "      <td>9.126884e+04</td>\n",
              "      <td>0.808840</td>\n",
              "      <td>11.187917</td>\n",
              "    </tr>\n",
              "    <tr>\n",
              "      <th>min</th>\n",
              "      <td>0.000000</td>\n",
              "      <td>1998.000000</td>\n",
              "      <td>1.710000e+02</td>\n",
              "      <td>0.000000</td>\n",
              "      <td>0.440000</td>\n",
              "    </tr>\n",
              "    <tr>\n",
              "      <th>25%</th>\n",
              "      <td>1504.500000</td>\n",
              "      <td>2011.000000</td>\n",
              "      <td>3.400000e+04</td>\n",
              "      <td>5.000000</td>\n",
              "      <td>3.500000</td>\n",
              "    </tr>\n",
              "    <tr>\n",
              "      <th>50%</th>\n",
              "      <td>3009.000000</td>\n",
              "      <td>2014.000000</td>\n",
              "      <td>5.300000e+04</td>\n",
              "      <td>5.000000</td>\n",
              "      <td>5.640000</td>\n",
              "    </tr>\n",
              "    <tr>\n",
              "      <th>75%</th>\n",
              "      <td>4513.500000</td>\n",
              "      <td>2016.000000</td>\n",
              "      <td>7.300000e+04</td>\n",
              "      <td>5.000000</td>\n",
              "      <td>9.950000</td>\n",
              "    </tr>\n",
              "    <tr>\n",
              "      <th>max</th>\n",
              "      <td>6018.000000</td>\n",
              "      <td>2019.000000</td>\n",
              "      <td>6.500000e+06</td>\n",
              "      <td>10.000000</td>\n",
              "      <td>160.000000</td>\n",
              "    </tr>\n",
              "  </tbody>\n",
              "</table>\n",
              "</div>\n",
              "    <div class=\"colab-df-buttons\">\n",
              "\n",
              "  <div class=\"colab-df-container\">\n",
              "    <button class=\"colab-df-convert\" onclick=\"convertToInteractive('df-5d51ab08-94de-4bab-b34f-5391d6e08820')\"\n",
              "            title=\"Convert this dataframe to an interactive table.\"\n",
              "            style=\"display:none;\">\n",
              "\n",
              "  <svg xmlns=\"http://www.w3.org/2000/svg\" height=\"24px\" viewBox=\"0 -960 960 960\">\n",
              "    <path d=\"M120-120v-720h720v720H120Zm60-500h600v-160H180v160Zm220 220h160v-160H400v160Zm0 220h160v-160H400v160ZM180-400h160v-160H180v160Zm440 0h160v-160H620v160ZM180-180h160v-160H180v160Zm440 0h160v-160H620v160Z\"/>\n",
              "  </svg>\n",
              "    </button>\n",
              "\n",
              "  <style>\n",
              "    .colab-df-container {\n",
              "      display:flex;\n",
              "      gap: 12px;\n",
              "    }\n",
              "\n",
              "    .colab-df-convert {\n",
              "      background-color: #E8F0FE;\n",
              "      border: none;\n",
              "      border-radius: 50%;\n",
              "      cursor: pointer;\n",
              "      display: none;\n",
              "      fill: #1967D2;\n",
              "      height: 32px;\n",
              "      padding: 0 0 0 0;\n",
              "      width: 32px;\n",
              "    }\n",
              "\n",
              "    .colab-df-convert:hover {\n",
              "      background-color: #E2EBFA;\n",
              "      box-shadow: 0px 1px 2px rgba(60, 64, 67, 0.3), 0px 1px 3px 1px rgba(60, 64, 67, 0.15);\n",
              "      fill: #174EA6;\n",
              "    }\n",
              "\n",
              "    .colab-df-buttons div {\n",
              "      margin-bottom: 4px;\n",
              "    }\n",
              "\n",
              "    [theme=dark] .colab-df-convert {\n",
              "      background-color: #3B4455;\n",
              "      fill: #D2E3FC;\n",
              "    }\n",
              "\n",
              "    [theme=dark] .colab-df-convert:hover {\n",
              "      background-color: #434B5C;\n",
              "      box-shadow: 0px 1px 3px 1px rgba(0, 0, 0, 0.15);\n",
              "      filter: drop-shadow(0px 1px 2px rgba(0, 0, 0, 0.3));\n",
              "      fill: #FFFFFF;\n",
              "    }\n",
              "  </style>\n",
              "\n",
              "    <script>\n",
              "      const buttonEl =\n",
              "        document.querySelector('#df-5d51ab08-94de-4bab-b34f-5391d6e08820 button.colab-df-convert');\n",
              "      buttonEl.style.display =\n",
              "        google.colab.kernel.accessAllowed ? 'block' : 'none';\n",
              "\n",
              "      async function convertToInteractive(key) {\n",
              "        const element = document.querySelector('#df-5d51ab08-94de-4bab-b34f-5391d6e08820');\n",
              "        const dataTable =\n",
              "          await google.colab.kernel.invokeFunction('convertToInteractive',\n",
              "                                                    [key], {});\n",
              "        if (!dataTable) return;\n",
              "\n",
              "        const docLinkHtml = 'Like what you see? Visit the ' +\n",
              "          '<a target=\"_blank\" href=https://colab.research.google.com/notebooks/data_table.ipynb>data table notebook</a>'\n",
              "          + ' to learn more about interactive tables.';\n",
              "        element.innerHTML = '';\n",
              "        dataTable['output_type'] = 'display_data';\n",
              "        await google.colab.output.renderOutput(dataTable, element);\n",
              "        const docLink = document.createElement('div');\n",
              "        docLink.innerHTML = docLinkHtml;\n",
              "        element.appendChild(docLink);\n",
              "      }\n",
              "    </script>\n",
              "  </div>\n",
              "\n",
              "\n",
              "<div id=\"df-fe647a31-975e-4549-b78c-7152bd9d6a2c\">\n",
              "  <button class=\"colab-df-quickchart\" onclick=\"quickchart('df-fe647a31-975e-4549-b78c-7152bd9d6a2c')\"\n",
              "            title=\"Suggest charts\"\n",
              "            style=\"display:none;\">\n",
              "\n",
              "<svg xmlns=\"http://www.w3.org/2000/svg\" height=\"24px\"viewBox=\"0 0 24 24\"\n",
              "     width=\"24px\">\n",
              "    <g>\n",
              "        <path d=\"M19 3H5c-1.1 0-2 .9-2 2v14c0 1.1.9 2 2 2h14c1.1 0 2-.9 2-2V5c0-1.1-.9-2-2-2zM9 17H7v-7h2v7zm4 0h-2V7h2v10zm4 0h-2v-4h2v4z\"/>\n",
              "    </g>\n",
              "</svg>\n",
              "  </button>\n",
              "\n",
              "<style>\n",
              "  .colab-df-quickchart {\n",
              "      --bg-color: #E8F0FE;\n",
              "      --fill-color: #1967D2;\n",
              "      --hover-bg-color: #E2EBFA;\n",
              "      --hover-fill-color: #174EA6;\n",
              "      --disabled-fill-color: #AAA;\n",
              "      --disabled-bg-color: #DDD;\n",
              "  }\n",
              "\n",
              "  [theme=dark] .colab-df-quickchart {\n",
              "      --bg-color: #3B4455;\n",
              "      --fill-color: #D2E3FC;\n",
              "      --hover-bg-color: #434B5C;\n",
              "      --hover-fill-color: #FFFFFF;\n",
              "      --disabled-bg-color: #3B4455;\n",
              "      --disabled-fill-color: #666;\n",
              "  }\n",
              "\n",
              "  .colab-df-quickchart {\n",
              "    background-color: var(--bg-color);\n",
              "    border: none;\n",
              "    border-radius: 50%;\n",
              "    cursor: pointer;\n",
              "    display: none;\n",
              "    fill: var(--fill-color);\n",
              "    height: 32px;\n",
              "    padding: 0;\n",
              "    width: 32px;\n",
              "  }\n",
              "\n",
              "  .colab-df-quickchart:hover {\n",
              "    background-color: var(--hover-bg-color);\n",
              "    box-shadow: 0 1px 2px rgba(60, 64, 67, 0.3), 0 1px 3px 1px rgba(60, 64, 67, 0.15);\n",
              "    fill: var(--button-hover-fill-color);\n",
              "  }\n",
              "\n",
              "  .colab-df-quickchart-complete:disabled,\n",
              "  .colab-df-quickchart-complete:disabled:hover {\n",
              "    background-color: var(--disabled-bg-color);\n",
              "    fill: var(--disabled-fill-color);\n",
              "    box-shadow: none;\n",
              "  }\n",
              "\n",
              "  .colab-df-spinner {\n",
              "    border: 2px solid var(--fill-color);\n",
              "    border-color: transparent;\n",
              "    border-bottom-color: var(--fill-color);\n",
              "    animation:\n",
              "      spin 1s steps(1) infinite;\n",
              "  }\n",
              "\n",
              "  @keyframes spin {\n",
              "    0% {\n",
              "      border-color: transparent;\n",
              "      border-bottom-color: var(--fill-color);\n",
              "      border-left-color: var(--fill-color);\n",
              "    }\n",
              "    20% {\n",
              "      border-color: transparent;\n",
              "      border-left-color: var(--fill-color);\n",
              "      border-top-color: var(--fill-color);\n",
              "    }\n",
              "    30% {\n",
              "      border-color: transparent;\n",
              "      border-left-color: var(--fill-color);\n",
              "      border-top-color: var(--fill-color);\n",
              "      border-right-color: var(--fill-color);\n",
              "    }\n",
              "    40% {\n",
              "      border-color: transparent;\n",
              "      border-right-color: var(--fill-color);\n",
              "      border-top-color: var(--fill-color);\n",
              "    }\n",
              "    60% {\n",
              "      border-color: transparent;\n",
              "      border-right-color: var(--fill-color);\n",
              "    }\n",
              "    80% {\n",
              "      border-color: transparent;\n",
              "      border-right-color: var(--fill-color);\n",
              "      border-bottom-color: var(--fill-color);\n",
              "    }\n",
              "    90% {\n",
              "      border-color: transparent;\n",
              "      border-bottom-color: var(--fill-color);\n",
              "    }\n",
              "  }\n",
              "</style>\n",
              "\n",
              "  <script>\n",
              "    async function quickchart(key) {\n",
              "      const quickchartButtonEl =\n",
              "        document.querySelector('#' + key + ' button');\n",
              "      quickchartButtonEl.disabled = true;  // To prevent multiple clicks.\n",
              "      quickchartButtonEl.classList.add('colab-df-spinner');\n",
              "      try {\n",
              "        const charts = await google.colab.kernel.invokeFunction(\n",
              "            'suggestCharts', [key], {});\n",
              "      } catch (error) {\n",
              "        console.error('Error during call to suggestCharts:', error);\n",
              "      }\n",
              "      quickchartButtonEl.classList.remove('colab-df-spinner');\n",
              "      quickchartButtonEl.classList.add('colab-df-quickchart-complete');\n",
              "    }\n",
              "    (() => {\n",
              "      let quickchartButtonEl =\n",
              "        document.querySelector('#df-fe647a31-975e-4549-b78c-7152bd9d6a2c button');\n",
              "      quickchartButtonEl.style.display =\n",
              "        google.colab.kernel.accessAllowed ? 'block' : 'none';\n",
              "    })();\n",
              "  </script>\n",
              "</div>\n",
              "\n",
              "    </div>\n",
              "  </div>\n"
            ],
            "application/vnd.google.colaboratory.intrinsic+json": {
              "type": "dataframe",
              "summary": "{\n  \"name\": \"df\",\n  \"rows\": 8,\n  \"fields\": [\n    {\n      \"column\": \"Unnamed: 0\",\n      \"properties\": {\n        \"dtype\": \"number\",\n        \"std\": 2169.057765276623,\n        \"min\": 0.0,\n        \"max\": 6019.0,\n        \"num_unique_values\": 7,\n        \"samples\": [\n          6019.0,\n          3009.0,\n          4513.5\n        ],\n        \"semantic_type\": \"\",\n        \"description\": \"\"\n      }\n    },\n    {\n      \"column\": \"Year\",\n      \"properties\": {\n        \"dtype\": \"number\",\n        \"std\": 1672.9998471408794,\n        \"min\": 3.2697421160913964,\n        \"max\": 6019.0,\n        \"num_unique_values\": 8,\n        \"samples\": [\n          2013.3581990363848,\n          2014.0,\n          6019.0\n        ],\n        \"semantic_type\": \"\",\n        \"description\": \"\"\n      }\n    },\n    {\n      \"column\": \"Kilometers_Driven\",\n      \"properties\": {\n        \"dtype\": \"number\",\n        \"std\": 2282340.352199672,\n        \"min\": 171.0,\n        \"max\": 6500000.0,\n        \"num_unique_values\": 8,\n        \"samples\": [\n          58738.38029573019,\n          53000.0,\n          6019.0\n        ],\n        \"semantic_type\": \"\",\n        \"description\": \"\"\n      }\n    },\n    {\n      \"column\": \"Seats\",\n      \"properties\": {\n        \"dtype\": \"number\",\n        \"std\": 2111.6206701116325,\n        \"min\": 0.0,\n        \"max\": 5977.0,\n        \"num_unique_values\": 6,\n        \"samples\": [\n          5977.0,\n          5.278735151413753,\n          10.0\n        ],\n        \"semantic_type\": \"\",\n        \"description\": \"\"\n      }\n    },\n    {\n      \"column\": \"Price\",\n      \"properties\": {\n        \"dtype\": \"number\",\n        \"std\": 2118.60861586734,\n        \"min\": 0.44,\n        \"max\": 6019.0,\n        \"num_unique_values\": 8,\n        \"samples\": [\n          9.47946835022429,\n          5.64,\n          6019.0\n        ],\n        \"semantic_type\": \"\",\n        \"description\": \"\"\n      }\n    }\n  ]\n}"
            }
          },
          "metadata": {},
          "execution_count": 14
        }
      ],
      "source": [
        "df.describe()"
      ]
    },
    {
      "cell_type": "markdown",
      "metadata": {
        "id": "fr2p90AKN5py"
      },
      "source": [
        "Based on the statistical information we got, here are some insights and potential steps for data preprocessing:\n",
        "\n",
        "1. **Missing or Zero Values**:\n",
        "   - **Seats**: The minimum value is 0, which is likely incorrect, suggesting missing or erroneous data. These should be checked and possibly imputed or removed.\n",
        "   - **Kilometers_Driven and Price**: The presence of very low minimum values might indicate anomalies or errors that need further investigation.\n",
        "\n",
        "2. **Outliers**:\n",
        "   - **Kilometers_Driven**: The maximum value is 6,500,000, which is exceptionally high and could be an outlier or error. Outlier detection methods should be used to identify and handle such values.\n",
        "   - **Price**: The wide range and maximum value of 160 could also suggest outliers. Further analysis is required to determine if these are genuine or errors.\n",
        "\n",
        "3. **Distribution and Scaling**:\n",
        "   - **Kilometers_Driven and Price**: The high standard deviations suggest these variables have a wide range of values. Normalization or standardization may be necessary to ensure these variables contribute appropriately to any models.\n",
        "\n",
        "4. **Data Consistency**:\n",
        "   - **Year**: The range from 1998 to 2019 seems reasonable, but it's important to ensure the year values are consistent and correct, particularly if more recent data is expected.\n",
        "\n",
        "5. **Imputation**:\n",
        "   - **Seats**: Since there are some missing values, decide on an imputation method (mean, median, mode, or using a model-based approach) to fill in these gaps.\n",
        "\n",
        "6. **Feature Engineering**:\n",
        "   - You might want to create new features or modify existing ones to better capture the relationships in the data, such as categorizing years into age groups or creating a \"mileage per year\" feature.\n",
        "\n",
        "By addressing these issues, the data will be cleaner and more suitable for analysis or modeling tasks."
      ]
    },
    {
      "cell_type": "markdown",
      "metadata": {
        "id": "3VrqAwFAN5py"
      },
      "source": [
        "## Now lets check for the null values."
      ]
    },
    {
      "cell_type": "code",
      "execution_count": null,
      "metadata": {
        "colab": {
          "base_uri": "https://localhost:8080/"
        },
        "id": "DdpPGaPUN5py",
        "outputId": "4760211a-2deb-4f95-d60e-515f554e74b6"
      },
      "outputs": [
        {
          "output_type": "execute_result",
          "data": {
            "text/plain": [
              "Unnamed: 0              0\n",
              "Name                    0\n",
              "Location                0\n",
              "Year                    0\n",
              "Kilometers_Driven       0\n",
              "Fuel_Type               0\n",
              "Transmission            0\n",
              "Owner_Type              0\n",
              "Mileage                 2\n",
              "Engine                 36\n",
              "Power                  36\n",
              "Seats                  42\n",
              "New_Price            5195\n",
              "Price                   0\n",
              "dtype: int64"
            ]
          },
          "metadata": {},
          "execution_count": 15
        }
      ],
      "source": [
        "df.isna().sum()"
      ]
    },
    {
      "cell_type": "markdown",
      "metadata": {
        "id": "uzg_psFWN5py"
      },
      "source": [
        "#### Well, thats a low price for 5,195 cars. As we can see it is the most column with null values we will try to solve this issue later."
      ]
    },
    {
      "cell_type": "markdown",
      "metadata": {
        "id": "nLrsQ_lnN5py"
      },
      "source": [
        "## Now lets check for duplicate rows"
      ]
    },
    {
      "cell_type": "code",
      "execution_count": null,
      "metadata": {
        "colab": {
          "base_uri": "https://localhost:8080/"
        },
        "id": "Sic88HPFN5py",
        "outputId": "8abc8ab0-6c86-4d5d-f06d-6fb2ee2b6190"
      },
      "outputs": [
        {
          "output_type": "execute_result",
          "data": {
            "text/plain": [
              "0"
            ]
          },
          "metadata": {},
          "execution_count": 16
        }
      ],
      "source": [
        "df.duplicated().sum()"
      ]
    },
    {
      "cell_type": "markdown",
      "metadata": {
        "id": "xboehQ-fN5py"
      },
      "source": [
        "#### This is great, this means less work for us. However duplicate rows some times can be healthy\n",
        "Dropping duplicate rows in a dataframe before passing it to a machine learning algorithm can be important, depending on the nature of the data and the machine learning algorithm being used.\n",
        "\n",
        "Duplicate rows can affect the performance of a machine learning algorithm in several ways.\n",
        "\n",
        "For example:\n",
        "\n",
        "1. Bias: Duplicate rows can bias the model towards certain features or outcomes, leading to overfitting and poor generalization to new data.\n",
        "\n",
        "2. Efficiency: Duplicate rows increase the computational cost of training the model, as the algorithm may need to process the same data multiple times.\n",
        "\n",
        "3. Data imbalance: Duplicate rows can also create an imbalance in the data, which can affect the accuracy of the model.\n",
        "\n",
        "Therefore, it is generally a good practice to remove duplicate rows from the data before training a machine learning algorithm. This can be done using the drop_duplicates() method in Pandas, or other similar methods in other programming languages.\n",
        "\n",
        "However, it is important to note that there may be cases where duplicate rows are actually informative and should not be removed. For example, in some time-series datasets, it is common to have multiple observations of the same event at different time points. In these cases, removing duplicate rows may actually remove important information from the dataset. So, it's always important to carefully consider the nature of the data and the goals of the analysis before deciding whether or not to remove duplicate rows.\n",
        "##### [source](https://www.kaggle.com/thabres)"
      ]
    },
    {
      "cell_type": "markdown",
      "metadata": {
        "id": "IPj9ff26N5pz"
      },
      "source": [
        "## Now we have enough information to start the preprocessing!"
      ]
    },
    {
      "cell_type": "markdown",
      "metadata": {
        "id": "76SbLKhCN5pz"
      },
      "source": [
        "# 2- Preprocessing"
      ]
    },
    {
      "cell_type": "markdown",
      "metadata": {
        "id": "V8SPO8etN5pz"
      },
      "source": [
        "### Indexing\n",
        "As you know, the `Unnamed: 0`column is and index so lets make it the index to the dataset and lets also rename it!"
      ]
    },
    {
      "cell_type": "code",
      "execution_count": null,
      "metadata": {
        "id": "ddxOzggAN5pz"
      },
      "outputs": [],
      "source": [
        "df = df.rename(columns={'Unnamed: 0': 'ID'})"
      ]
    },
    {
      "cell_type": "code",
      "source": [
        "df = df.rename(columns={'Unnamed: 0': 'ID'})"
      ],
      "metadata": {
        "id": "3dibrIZIRgFR"
      },
      "execution_count": null,
      "outputs": []
    },
    {
      "cell_type": "code",
      "source": [
        "df = df.set_index('ID')"
      ],
      "metadata": {
        "id": "Jmawr-iVRv92"
      },
      "execution_count": null,
      "outputs": []
    },
    {
      "cell_type": "markdown",
      "metadata": {
        "id": "YFJj3I2zN5pz"
      },
      "source": [
        "### Clean numerical columns"
      ]
    },
    {
      "cell_type": "code",
      "source": [
        "df['Engine'] = df['Engine'].apply(lambda x: str(x).replace(' CC', ''))\n",
        "df['Engine'] = df['Engine'].replace('nan', np.nan)\n",
        "df['Engine'] = df['Engine'].fillna('-1')\n",
        "df['Engine'] = df['Engine'].astype(float)\n",
        "df['Engine'] = df['Engine'].replace(-1, np.nan)\n",
        "print(df['Engine'].dtype)\n",
        "print(df['Engine'].unique())"
      ],
      "metadata": {
        "colab": {
          "base_uri": "https://localhost:8080/"
        },
        "id": "jbOO5wdyR8F5",
        "outputId": "6c3d7af6-18cf-4785-83ff-8800e02eedf1"
      },
      "execution_count": null,
      "outputs": [
        {
          "output_type": "stream",
          "name": "stdout",
          "text": [
            "float64\n",
            "[ 998. 1582. 1199. 1248. 1968.  814. 1461. 2755. 1598. 1462. 1497. 2179.\n",
            " 2477. 1498. 2143. 1995. 1984. 1197. 2494. 1798. 2696. 2698. 1061. 1198.\n",
            " 2987.  796.  624. 1999. 1991. 2694. 1120. 2498.  799. 2393. 1399. 1796.\n",
            " 2148. 1396. 1950. 4806. 1998. 1086. 1193. 2982. 1493. 2967. 2993. 1196.\n",
            " 1799. 2497. 2354. 1373. 2996. 1591. 2894. 5461. 1595.  936. 1997.   nan\n",
            " 1896. 1390. 1364. 2199.  993.  999. 1405. 2956. 1794.  995. 2496. 1599.\n",
            " 2400. 1495. 2523.  793. 4134. 1596. 1395. 2953. 1586. 2362. 1496. 1368.\n",
            " 1298. 1956. 1299. 3498. 2835. 1150. 3198. 1343. 1499. 1186. 1590. 2609.\n",
            " 2499. 2446. 1978. 2360. 3436. 2198. 4367. 2706. 1422. 2979. 1969. 1489.\n",
            " 2489. 1242. 1388. 1172. 2495. 1194. 3200. 1781. 1341. 2773. 3597. 1985.\n",
            " 2147. 1047. 2999. 2995. 2997. 1948. 2359. 4395. 2349. 2720. 1468. 3197.\n",
            " 2487. 1597. 2771.   72. 4951.  970. 2925. 2200. 5000. 2149. 5998. 2092.\n",
            " 5204. 2112. 1797.]\n"
          ]
        }
      ]
    },
    {
      "cell_type": "code",
      "execution_count": null,
      "metadata": {
        "id": "jl4Yzd0ZN5pz"
      },
      "outputs": [],
      "source": [
        "# Remove the 'CC' from the 'Engine' column\n",
        "df['Engine'] = df['Engine'].apply(lambda x: str(x).replace(' CC', ''))\n",
        "# First lets make null value to -1 just so we can change the data type to int\n",
        "# In case it is not np.nan, we will also replace 'nan' to -1\n",
        "df['Engine'] = df['Engine'].replace('nan', np.nan)\n",
        "df['Engine'] = df['Engine'].fillna('-1')\n",
        "# Now we change the data type to int\n",
        "df['Engine'] = df['Engine'].astype(float)\n",
        "# Now lets replace -1 to np.nan\n",
        "df['Engine'] = df['Engine'].replace(-1, np.nan)\n",
        "print(df['Engine'].dtype)\n",
        "print(df['Engine'].unique())"
      ]
    },
    {
      "cell_type": "code",
      "execution_count": null,
      "metadata": {
        "colab": {
          "base_uri": "https://localhost:8080/"
        },
        "id": "cmmcUvjhN5pz",
        "outputId": "14213771-b4a5-4e0a-e730-bd591e2af0b5"
      },
      "outputs": [
        {
          "output_type": "stream",
          "name": "stdout",
          "text": [
            "float64\n",
            "[  nan  861. 2100. 1065. 3201. 4787. 1057. 1233. 1112. 2364. 1864. 1934.\n",
            " 4914. 1181. 1665.  667.  645.  641. 2700.  513. 5443.  951.  996. 1444.\n",
            "  453. 9504. 1349.  128. 6088.  739. 6947.  878. 1274. 1052. 1198.  854.\n",
            " 3358.  912.  529. 4428. 2074. 1174. 2552. 1407. 9513.  834.  885. 2540.\n",
            " 1667. 7943.  662.  104. 5867. 2837.  448. 7264. 3615. 4459. 1200. 1465.\n",
            " 5372. 3391. 1251.  974. 9538. 6059. 1128. 1148. 1126. 4365. 6207. 8697.\n",
            "  100.  474. 1484. 4949. 4818. 1234. 1538. 1921. 2295. 1115. 1032. 2805.\n",
            " 5977. 1586. 1943. 4212. 1695. 1545.  787.  470. 1502. 1256. 1133. 2645.\n",
            " 1034.  746. 1185. 1041.  557. 4248. 1604.  910.  765. 1374.  572. 2133.\n",
            " 7876.  429. 1004. 1167.  856.  478.  614.  730.  437.  498. 1529. 2426.\n",
            " 7512.  953. 3460. 5226. 7043.  480. 1212. 1937. 1214. 3669. 2368. 5561.\n",
            " 1410. 1326. 1127. 1120.  946. 1279. 1557. 1986.  659.  654. 2656. 1505.\n",
            " 1101. 1100.  755.  782.  632. 1514. 1572. 4567. 5470. 2287.  674. 3309.\n",
            " 2325. 1927. 5277.  792.  785. 1555. 3245.  483.  713. 7182. 5097. 1073.\n",
            "  950. 5246.  607.  554.  433.  863.  668.  798. 2482.  763. 2286. 1106.\n",
            " 1939. 2177. 1835.  919.  809.  139. 1152. 1323. 1006. 1534. 2401. 1139.\n",
            "  979. 3500.  926.  868. 6639. 3645. 9138. 5341.  459. 6787.  944. 4864.\n",
            " 1169. 1111.  633.  810.  640.  759.  700.  743. 2243. 2402. 2169. 3463.\n",
            " 4331.  471.  102.  671. 3445.  858. 1267. 1189. 1048. 1359. 1102. 4194.\n",
            "  894. 2138. 1288.  827.  737.  733. 2306.  140.  558. 2246.  769.  940.\n",
            "  608.  836.  106. 7115.  682.  812.  978.  736. 3811. 1175.  844. 1606.\n",
            "  663.  127. 3960. 1091. 2575.  561.  805.  882. 1738.  569. 3751.  588.\n",
            " 6371. 1147. 3746.  788. 1137. 1130. 9250. 1506. 3957. 1370. 1116.  947.\n",
            " 1017.  817.  958.  914. 6414. 1636. 3738. 2274. 3336. 7055.  113. 4536.\n",
            " 1013. 1422. 1177.  405. 2695.  482.  717. 1358.  909.  409.  683.  504.\n",
            " 4381.  512.  571.  587.  816.  972. 1030.  469.  542. 9123.  714. 6959.\n",
            "  461.  530.  797. 5938. 6710. 1222. 3368.  696.  796. 2080.  678. 1991.\n",
            "  893. 1166.  735.  699. 2389.  727.  884. 2237. 1202.  395. 4879.  466.\n",
            " 1129.  535.  136.  623. 4716. 4198. 3529.  791.  536.  551. 2097. 3489.\n",
            " 1640.  166. 1467. 1257.  948.  895. 2319.  824.  871. 4475. 8757.  857.\n",
            "  756. 4307.  783.  600. 1376. 1411. 1247.  651.  752. 1568.  745. 2048.\n",
            " 1517.  813.  879. 1472. 2554. 1684.  828. 2394. 6937.  904. 5507. 1097.\n",
            " 2172.  490. 1010. 1253. 2087.  590. 6457. 1721.  656. 4720. 1014.  160.\n",
            "  544. 2655.  826.  450. 5697. 1119. 1333.  875. 2110. 1028. 1156. 2707.\n",
            "  436. 1081.  855. 2266.  424. 4102. 1700.  230. 1089. 4062.  754. 3019.\n",
            "  556.  443. 3717. 1290. 1918. 1099. 1223. 1163. 1227.  391. 4480. 5040.\n",
            "  404. 1196. 1144. 2463. 5026. 1372. 2314.  629.  818.  748. 8392. 3694.\n",
            " 1360. 1070.  487. 9279.  580. 6211. 1083. 1105.  999. 1432.  621. 7449.\n",
            "  803.  171. 3790. 3254. 1171.  398.  455.  880. 1113. 1158. 1063. 1268.\n",
            " 1770. 1423.  962. 5314.  891. 1026.  694. 1559. 7831. 4289.  956. 6476.\n",
            " 9992. 6922. 1845.  989.  794.  873.  869. 4240. 2337. 7978. 1660.  493.\n",
            " 1420. 1042.  955.  545.  838.  595. 1536. 1094. 1015.  983.  767.  997.\n",
            " 6767. 5368.  605. 1025.  823.  701.  680. 2527. 5730.  568.  936. 3872.\n",
            "  770.  643.  567.  396. 3927. 3351. 1594.  715. 1340. 1188. 2136.  592.\n",
            "  642.  899. 1244.  577. 1501. 4073. 3321.  445. 2046. 3922.  777. 1191.\n",
            "  993.]\n"
          ]
        }
      ],
      "source": [
        "df['New_Price'] = df['New_Price'].apply(lambda x: str(x).replace(' Lakh', ''))\n",
        "df['New_Price'] = df['New_Price'].apply(lambda x: float(str(x).replace(' Cr', ''))*100)\n",
        "\n",
        "df['New_Price'] = df['New_Price'].replace('nan', np.nan)\n",
        "df['New_Price'] = df['New_Price'].replace('null', np.nan)\n",
        "df['New_Price'] = df['New_Price'].fillna('-1')\n",
        "\n",
        "df['New_Price'] = df['New_Price'].astype(float)\n",
        "\n",
        "df['New_Price'] = df['New_Price'].replace(-1, np.nan)\n",
        "\n",
        "print(df['New_Price'].dtype)\n",
        "print(df['New_Price'].unique())"
      ]
    },
    {
      "cell_type": "code",
      "source": [
        "df['Power'] = df['Power'].apply(lambda x: str(x).replace(' bhp', ''))\n",
        "df['Power'] = df['Power'].replace('nan', np.nan)\n",
        "df['Power'] = df['Power'].replace('null', np.nan)\n",
        "df['Power'] = df['Power'].fillna('-1')\n",
        "df['Power'] = df['Power'].astype(float)\n",
        "df['Power'] = df['Power'].replace(-1, np.nan)\n",
        "print(df['Power'].dtype)\n",
        "print(df['Power'].unique())"
      ],
      "metadata": {
        "colab": {
          "base_uri": "https://localhost:8080/"
        },
        "id": "P3p0JjhQUCUf",
        "outputId": "84cfa2ef-9861-47ee-86c6-aed232c44778"
      },
      "execution_count": null,
      "outputs": [
        {
          "output_type": "stream",
          "name": "stdout",
          "text": [
            "float64\n",
            "[ 58.16  126.2    88.7    88.76  140.8    55.2    63.1   171.5   103.6\n",
            "  74.    103.25  116.3   187.7   115.    175.56   98.6    83.8   167.62\n",
            " 190.     88.5   177.01   80.     67.1   102.    108.45  138.1   184.\n",
            " 179.5   103.5    64.     82.    254.8    73.9    46.3    37.5    77.\n",
            "  82.9   149.92  138.03  112.2   163.7    71.    105.    174.33   75.\n",
            " 103.2    53.3    78.9   147.6   147.8    68.    186.    170.     69.\n",
            " 140.     78.    194.    500.    108.5    86.8   187.74      nan 132.\n",
            "  86.7    73.94  117.3   218.    168.5    89.84  110.     90.     82.85\n",
            "  67.    241.4    35.    270.9   126.32   73.    130.    100.6   150.\n",
            "  75.94  215.    107.3    37.48  120.    178.    152.     91.1    85.8\n",
            " 362.07  121.3   143.     81.8   171.     76.8   103.52  444.    362.9\n",
            "  67.06  120.7   258.     81.86  112.     88.73   57.6   157.75  102.5\n",
            " 201.1    83.1    68.05  106.    100.     81.83   85.     64.1   177.5\n",
            " 246.7   177.46   65.     67.04  189.08   99.     53.5   194.3    70.\n",
            " 183.    254.79   66.1    76.     60.    123.24   47.3   118.     88.8\n",
            " 177.    136.    201.15   93.7   177.6   313.    245.    125.    141.\n",
            " 227.     62.    141.1    83.14  192.     67.05   47.    235.     37.\n",
            "  87.2   203.    204.    246.74  122.    282.    181.    224.     94.\n",
            " 367.     98.79   62.1   174.3   114.    335.2   169.    191.34  108.49\n",
            " 138.02  156.    187.4    66.    103.3   164.7    79.4   198.5   154.\n",
            "  73.8   181.43  207.8   108.4    88.     63.     82.5   364.9   107.2\n",
            " 113.98  126.3   185.    237.4    99.6    66.7   160.    306.     98.59\n",
            "  92.7   147.51  197.2   167.6   165.    110.4    73.97  147.9   116.6\n",
            " 148.     34.2   155.    197.    108.62  118.3    38.4   241.38  153.86\n",
            " 163.5   226.6    84.8    53.64  158.2    69.01  181.03   58.2   104.68\n",
            " 126.24   73.75  158.    130.2    57.5    97.7   121.4    98.96  174.5\n",
            " 308.    121.36  138.    265.     84.    321.     91.72   65.3    88.2\n",
            "  93.     35.5    86.79  157.7    40.3    91.7   180.    114.4   158.8\n",
            " 157.8   123.7    56.3   189.    104.    210.    270.88  142.    255.\n",
            " 236.    167.7   148.31   80.46  138.08  250.     74.9    91.2   102.57\n",
            "  97.6   102.53  240.    254.    112.4    73.74  108.495 116.9   101.\n",
            " 320.     70.02  261.49  105.5   550.    168.7    55.23   94.68  152.88\n",
            " 163.2   203.2   241.     95.    200.    271.23   63.12   85.7   308.43\n",
            " 118.6   199.3    83.83   55.     83.    300.    201.    262.6   163.\n",
            "  58.33   86.76   76.9   174.57  301.73   68.1   162.    394.3    80.9\n",
            " 147.5   272.    340.    120.33   82.4   231.1   335.3   333.    198.25\n",
            " 224.34  402.    261.     61.    144.     71.01  271.72  134.    135.1\n",
            "  92.     64.08  261.5   123.37  175.67   53.    110.5   178.4   193.1\n",
            "  41.    395.     48.21  450.    421.     89.75  387.3   130.3   281.61\n",
            "  52.8   139.01  208.    503.    168.     98.82  139.07   83.11   74.93\n",
            " 382.     74.96  552.    127.    560.    116.4   161.6   488.1   103.\n",
            " 181.04 ]\n"
          ]
        }
      ]
    },
    {
      "cell_type": "code",
      "execution_count": null,
      "metadata": {
        "id": "_XI4qbF0N5p0"
      },
      "outputs": [],
      "source": [
        "\n",
        "df['Power'] = df['Power'].apply(lambda x: str(x).replace(' bhp', ''))\n",
        "\n",
        "df['Power'] = df['Power'].replace('nan', np.nan)\n",
        "df['Power'] = df['Power'].replace('null', np.nan)\n",
        "df['Power'] = df['Power'].fillna('-1')\n",
        "\n",
        "df['Power'] = df['Power'].astype(float)\n",
        "\n",
        "df['Power'] = df['Power'].replace(-1, np.nan)\n",
        "print(df['Power'].dtype)\n",
        "print(df['Power'].unique())"
      ]
    },
    {
      "cell_type": "code",
      "execution_count": null,
      "metadata": {
        "id": "b4GiXNDtN5p0"
      },
      "outputs": [],
      "source": [
        "def convert_mileage(mileage):\n",
        "    if isinstance(mileage, str) and 'km/kg' in mileage:\n",
        "        mileage = mileage[:-6]\n",
        "        mileage = float(mileage)*1.40\n",
        "\n",
        "        return f\"{float(mileage):.2f} kmpl\"\n",
        "    return mileage\n",
        "\n",
        "df['Mileage'] = df['Mileage'].astype(str).apply(convert_mileage)"
      ]
    },
    {
      "cell_type": "code",
      "source": [
        "def convert_mileage(mileage):\n",
        "    if isinstance(mileage, str) and 'km/kg' in mileage:\n",
        "        mileage = mileage[:-6]\n",
        "        mileage = float(mileage)*1.40\n",
        "\n",
        "        return f\"{float(mileage):.2f} kmpl\"\n",
        "    return mileage\n",
        "\n",
        "df['Mileage'] = df['Mileage'].astype(str).apply(convert_mileage)"
      ],
      "metadata": {
        "id": "FdNvlvcvV4Zo"
      },
      "execution_count": null,
      "outputs": []
    },
    {
      "cell_type": "code",
      "source": [
        "df[~df['Mileage'].str.contains('kmpl')]"
      ],
      "metadata": {
        "colab": {
          "base_uri": "https://localhost:8080/",
          "height": 160
        },
        "id": "rum0makJW_T5",
        "outputId": "36e14d89-eaed-47f4-af7a-6aacda3a3e42"
      },
      "execution_count": null,
      "outputs": [
        {
          "output_type": "execute_result",
          "data": {
            "text/plain": [
              "                           Name Location  Year  Kilometers_Driven Fuel_Type  \\\n",
              "ID                                                                            \n",
              "4446       Mahindra E Verito D4  Chennai  2016              50000  Electric   \n",
              "4904  Toyota Prius 2009-2016 Z4   Mumbai  2011              44000  Electric   \n",
              "\n",
              "     Transmission Owner_Type Mileage  Engine  Power  Seats  New_Price  Price  \n",
              "ID                                                                            \n",
              "4446    Automatic      First     nan    72.0   41.0    5.0     1358.0  13.00  \n",
              "4904    Automatic      First     nan  1798.0   73.0    5.0        NaN  12.75  "
            ],
            "text/html": [
              "\n",
              "  <div id=\"df-7a39d187-b43c-415e-be88-b5f842539d2b\" class=\"colab-df-container\">\n",
              "    <div>\n",
              "<style scoped>\n",
              "    .dataframe tbody tr th:only-of-type {\n",
              "        vertical-align: middle;\n",
              "    }\n",
              "\n",
              "    .dataframe tbody tr th {\n",
              "        vertical-align: top;\n",
              "    }\n",
              "\n",
              "    .dataframe thead th {\n",
              "        text-align: right;\n",
              "    }\n",
              "</style>\n",
              "<table border=\"1\" class=\"dataframe\">\n",
              "  <thead>\n",
              "    <tr style=\"text-align: right;\">\n",
              "      <th></th>\n",
              "      <th>Name</th>\n",
              "      <th>Location</th>\n",
              "      <th>Year</th>\n",
              "      <th>Kilometers_Driven</th>\n",
              "      <th>Fuel_Type</th>\n",
              "      <th>Transmission</th>\n",
              "      <th>Owner_Type</th>\n",
              "      <th>Mileage</th>\n",
              "      <th>Engine</th>\n",
              "      <th>Power</th>\n",
              "      <th>Seats</th>\n",
              "      <th>New_Price</th>\n",
              "      <th>Price</th>\n",
              "    </tr>\n",
              "    <tr>\n",
              "      <th>ID</th>\n",
              "      <th></th>\n",
              "      <th></th>\n",
              "      <th></th>\n",
              "      <th></th>\n",
              "      <th></th>\n",
              "      <th></th>\n",
              "      <th></th>\n",
              "      <th></th>\n",
              "      <th></th>\n",
              "      <th></th>\n",
              "      <th></th>\n",
              "      <th></th>\n",
              "      <th></th>\n",
              "    </tr>\n",
              "  </thead>\n",
              "  <tbody>\n",
              "    <tr>\n",
              "      <th>4446</th>\n",
              "      <td>Mahindra E Verito D4</td>\n",
              "      <td>Chennai</td>\n",
              "      <td>2016</td>\n",
              "      <td>50000</td>\n",
              "      <td>Electric</td>\n",
              "      <td>Automatic</td>\n",
              "      <td>First</td>\n",
              "      <td>nan</td>\n",
              "      <td>72.0</td>\n",
              "      <td>41.0</td>\n",
              "      <td>5.0</td>\n",
              "      <td>1358.0</td>\n",
              "      <td>13.00</td>\n",
              "    </tr>\n",
              "    <tr>\n",
              "      <th>4904</th>\n",
              "      <td>Toyota Prius 2009-2016 Z4</td>\n",
              "      <td>Mumbai</td>\n",
              "      <td>2011</td>\n",
              "      <td>44000</td>\n",
              "      <td>Electric</td>\n",
              "      <td>Automatic</td>\n",
              "      <td>First</td>\n",
              "      <td>nan</td>\n",
              "      <td>1798.0</td>\n",
              "      <td>73.0</td>\n",
              "      <td>5.0</td>\n",
              "      <td>NaN</td>\n",
              "      <td>12.75</td>\n",
              "    </tr>\n",
              "  </tbody>\n",
              "</table>\n",
              "</div>\n",
              "    <div class=\"colab-df-buttons\">\n",
              "\n",
              "  <div class=\"colab-df-container\">\n",
              "    <button class=\"colab-df-convert\" onclick=\"convertToInteractive('df-7a39d187-b43c-415e-be88-b5f842539d2b')\"\n",
              "            title=\"Convert this dataframe to an interactive table.\"\n",
              "            style=\"display:none;\">\n",
              "\n",
              "  <svg xmlns=\"http://www.w3.org/2000/svg\" height=\"24px\" viewBox=\"0 -960 960 960\">\n",
              "    <path d=\"M120-120v-720h720v720H120Zm60-500h600v-160H180v160Zm220 220h160v-160H400v160Zm0 220h160v-160H400v160ZM180-400h160v-160H180v160Zm440 0h160v-160H620v160ZM180-180h160v-160H180v160Zm440 0h160v-160H620v160Z\"/>\n",
              "  </svg>\n",
              "    </button>\n",
              "\n",
              "  <style>\n",
              "    .colab-df-container {\n",
              "      display:flex;\n",
              "      gap: 12px;\n",
              "    }\n",
              "\n",
              "    .colab-df-convert {\n",
              "      background-color: #E8F0FE;\n",
              "      border: none;\n",
              "      border-radius: 50%;\n",
              "      cursor: pointer;\n",
              "      display: none;\n",
              "      fill: #1967D2;\n",
              "      height: 32px;\n",
              "      padding: 0 0 0 0;\n",
              "      width: 32px;\n",
              "    }\n",
              "\n",
              "    .colab-df-convert:hover {\n",
              "      background-color: #E2EBFA;\n",
              "      box-shadow: 0px 1px 2px rgba(60, 64, 67, 0.3), 0px 1px 3px 1px rgba(60, 64, 67, 0.15);\n",
              "      fill: #174EA6;\n",
              "    }\n",
              "\n",
              "    .colab-df-buttons div {\n",
              "      margin-bottom: 4px;\n",
              "    }\n",
              "\n",
              "    [theme=dark] .colab-df-convert {\n",
              "      background-color: #3B4455;\n",
              "      fill: #D2E3FC;\n",
              "    }\n",
              "\n",
              "    [theme=dark] .colab-df-convert:hover {\n",
              "      background-color: #434B5C;\n",
              "      box-shadow: 0px 1px 3px 1px rgba(0, 0, 0, 0.15);\n",
              "      filter: drop-shadow(0px 1px 2px rgba(0, 0, 0, 0.3));\n",
              "      fill: #FFFFFF;\n",
              "    }\n",
              "  </style>\n",
              "\n",
              "    <script>\n",
              "      const buttonEl =\n",
              "        document.querySelector('#df-7a39d187-b43c-415e-be88-b5f842539d2b button.colab-df-convert');\n",
              "      buttonEl.style.display =\n",
              "        google.colab.kernel.accessAllowed ? 'block' : 'none';\n",
              "\n",
              "      async function convertToInteractive(key) {\n",
              "        const element = document.querySelector('#df-7a39d187-b43c-415e-be88-b5f842539d2b');\n",
              "        const dataTable =\n",
              "          await google.colab.kernel.invokeFunction('convertToInteractive',\n",
              "                                                    [key], {});\n",
              "        if (!dataTable) return;\n",
              "\n",
              "        const docLinkHtml = 'Like what you see? Visit the ' +\n",
              "          '<a target=\"_blank\" href=https://colab.research.google.com/notebooks/data_table.ipynb>data table notebook</a>'\n",
              "          + ' to learn more about interactive tables.';\n",
              "        element.innerHTML = '';\n",
              "        dataTable['output_type'] = 'display_data';\n",
              "        await google.colab.output.renderOutput(dataTable, element);\n",
              "        const docLink = document.createElement('div');\n",
              "        docLink.innerHTML = docLinkHtml;\n",
              "        element.appendChild(docLink);\n",
              "      }\n",
              "    </script>\n",
              "  </div>\n",
              "\n",
              "\n",
              "<div id=\"df-ca7c660a-a97a-4691-8628-bd438de1b59c\">\n",
              "  <button class=\"colab-df-quickchart\" onclick=\"quickchart('df-ca7c660a-a97a-4691-8628-bd438de1b59c')\"\n",
              "            title=\"Suggest charts\"\n",
              "            style=\"display:none;\">\n",
              "\n",
              "<svg xmlns=\"http://www.w3.org/2000/svg\" height=\"24px\"viewBox=\"0 0 24 24\"\n",
              "     width=\"24px\">\n",
              "    <g>\n",
              "        <path d=\"M19 3H5c-1.1 0-2 .9-2 2v14c0 1.1.9 2 2 2h14c1.1 0 2-.9 2-2V5c0-1.1-.9-2-2-2zM9 17H7v-7h2v7zm4 0h-2V7h2v10zm4 0h-2v-4h2v4z\"/>\n",
              "    </g>\n",
              "</svg>\n",
              "  </button>\n",
              "\n",
              "<style>\n",
              "  .colab-df-quickchart {\n",
              "      --bg-color: #E8F0FE;\n",
              "      --fill-color: #1967D2;\n",
              "      --hover-bg-color: #E2EBFA;\n",
              "      --hover-fill-color: #174EA6;\n",
              "      --disabled-fill-color: #AAA;\n",
              "      --disabled-bg-color: #DDD;\n",
              "  }\n",
              "\n",
              "  [theme=dark] .colab-df-quickchart {\n",
              "      --bg-color: #3B4455;\n",
              "      --fill-color: #D2E3FC;\n",
              "      --hover-bg-color: #434B5C;\n",
              "      --hover-fill-color: #FFFFFF;\n",
              "      --disabled-bg-color: #3B4455;\n",
              "      --disabled-fill-color: #666;\n",
              "  }\n",
              "\n",
              "  .colab-df-quickchart {\n",
              "    background-color: var(--bg-color);\n",
              "    border: none;\n",
              "    border-radius: 50%;\n",
              "    cursor: pointer;\n",
              "    display: none;\n",
              "    fill: var(--fill-color);\n",
              "    height: 32px;\n",
              "    padding: 0;\n",
              "    width: 32px;\n",
              "  }\n",
              "\n",
              "  .colab-df-quickchart:hover {\n",
              "    background-color: var(--hover-bg-color);\n",
              "    box-shadow: 0 1px 2px rgba(60, 64, 67, 0.3), 0 1px 3px 1px rgba(60, 64, 67, 0.15);\n",
              "    fill: var(--button-hover-fill-color);\n",
              "  }\n",
              "\n",
              "  .colab-df-quickchart-complete:disabled,\n",
              "  .colab-df-quickchart-complete:disabled:hover {\n",
              "    background-color: var(--disabled-bg-color);\n",
              "    fill: var(--disabled-fill-color);\n",
              "    box-shadow: none;\n",
              "  }\n",
              "\n",
              "  .colab-df-spinner {\n",
              "    border: 2px solid var(--fill-color);\n",
              "    border-color: transparent;\n",
              "    border-bottom-color: var(--fill-color);\n",
              "    animation:\n",
              "      spin 1s steps(1) infinite;\n",
              "  }\n",
              "\n",
              "  @keyframes spin {\n",
              "    0% {\n",
              "      border-color: transparent;\n",
              "      border-bottom-color: var(--fill-color);\n",
              "      border-left-color: var(--fill-color);\n",
              "    }\n",
              "    20% {\n",
              "      border-color: transparent;\n",
              "      border-left-color: var(--fill-color);\n",
              "      border-top-color: var(--fill-color);\n",
              "    }\n",
              "    30% {\n",
              "      border-color: transparent;\n",
              "      border-left-color: var(--fill-color);\n",
              "      border-top-color: var(--fill-color);\n",
              "      border-right-color: var(--fill-color);\n",
              "    }\n",
              "    40% {\n",
              "      border-color: transparent;\n",
              "      border-right-color: var(--fill-color);\n",
              "      border-top-color: var(--fill-color);\n",
              "    }\n",
              "    60% {\n",
              "      border-color: transparent;\n",
              "      border-right-color: var(--fill-color);\n",
              "    }\n",
              "    80% {\n",
              "      border-color: transparent;\n",
              "      border-right-color: var(--fill-color);\n",
              "      border-bottom-color: var(--fill-color);\n",
              "    }\n",
              "    90% {\n",
              "      border-color: transparent;\n",
              "      border-bottom-color: var(--fill-color);\n",
              "    }\n",
              "  }\n",
              "</style>\n",
              "\n",
              "  <script>\n",
              "    async function quickchart(key) {\n",
              "      const quickchartButtonEl =\n",
              "        document.querySelector('#' + key + ' button');\n",
              "      quickchartButtonEl.disabled = true;  // To prevent multiple clicks.\n",
              "      quickchartButtonEl.classList.add('colab-df-spinner');\n",
              "      try {\n",
              "        const charts = await google.colab.kernel.invokeFunction(\n",
              "            'suggestCharts', [key], {});\n",
              "      } catch (error) {\n",
              "        console.error('Error during call to suggestCharts:', error);\n",
              "      }\n",
              "      quickchartButtonEl.classList.remove('colab-df-spinner');\n",
              "      quickchartButtonEl.classList.add('colab-df-quickchart-complete');\n",
              "    }\n",
              "    (() => {\n",
              "      let quickchartButtonEl =\n",
              "        document.querySelector('#df-ca7c660a-a97a-4691-8628-bd438de1b59c button');\n",
              "      quickchartButtonEl.style.display =\n",
              "        google.colab.kernel.accessAllowed ? 'block' : 'none';\n",
              "    })();\n",
              "  </script>\n",
              "</div>\n",
              "\n",
              "    </div>\n",
              "  </div>\n"
            ],
            "application/vnd.google.colaboratory.intrinsic+json": {
              "type": "dataframe",
              "summary": "{\n  \"name\": \"df[~df['Mileage']\",\n  \"rows\": 2,\n  \"fields\": [\n    {\n      \"column\": \"ID\",\n      \"properties\": {\n        \"dtype\": \"number\",\n        \"std\": 323,\n        \"min\": 4446,\n        \"max\": 4904,\n        \"num_unique_values\": 2,\n        \"samples\": [\n          4904,\n          4446\n        ],\n        \"semantic_type\": \"\",\n        \"description\": \"\"\n      }\n    },\n    {\n      \"column\": \"Name\",\n      \"properties\": {\n        \"dtype\": \"string\",\n        \"num_unique_values\": 2,\n        \"samples\": [\n          \"Toyota Prius 2009-2016 Z4\",\n          \"Mahindra E Verito D4\"\n        ],\n        \"semantic_type\": \"\",\n        \"description\": \"\"\n      }\n    },\n    {\n      \"column\": \"Location\",\n      \"properties\": {\n        \"dtype\": \"string\",\n        \"num_unique_values\": 2,\n        \"samples\": [\n          \"Mumbai\",\n          \"Chennai\"\n        ],\n        \"semantic_type\": \"\",\n        \"description\": \"\"\n      }\n    },\n    {\n      \"column\": \"Year\",\n      \"properties\": {\n        \"dtype\": \"number\",\n        \"std\": 3,\n        \"min\": 2011,\n        \"max\": 2016,\n        \"num_unique_values\": 2,\n        \"samples\": [\n          2011,\n          2016\n        ],\n        \"semantic_type\": \"\",\n        \"description\": \"\"\n      }\n    },\n    {\n      \"column\": \"Kilometers_Driven\",\n      \"properties\": {\n        \"dtype\": \"number\",\n        \"std\": 4242,\n        \"min\": 44000,\n        \"max\": 50000,\n        \"num_unique_values\": 2,\n        \"samples\": [\n          44000,\n          50000\n        ],\n        \"semantic_type\": \"\",\n        \"description\": \"\"\n      }\n    },\n    {\n      \"column\": \"Fuel_Type\",\n      \"properties\": {\n        \"dtype\": \"string\",\n        \"num_unique_values\": 1,\n        \"samples\": [\n          \"Electric\"\n        ],\n        \"semantic_type\": \"\",\n        \"description\": \"\"\n      }\n    },\n    {\n      \"column\": \"Transmission\",\n      \"properties\": {\n        \"dtype\": \"string\",\n        \"num_unique_values\": 1,\n        \"samples\": [\n          \"Automatic\"\n        ],\n        \"semantic_type\": \"\",\n        \"description\": \"\"\n      }\n    },\n    {\n      \"column\": \"Owner_Type\",\n      \"properties\": {\n        \"dtype\": \"string\",\n        \"num_unique_values\": 1,\n        \"samples\": [\n          \"First\"\n        ],\n        \"semantic_type\": \"\",\n        \"description\": \"\"\n      }\n    },\n    {\n      \"column\": \"Mileage\",\n      \"properties\": {\n        \"dtype\": \"object\",\n        \"num_unique_values\": 1,\n        \"samples\": [\n          \"nan\"\n        ],\n        \"semantic_type\": \"\",\n        \"description\": \"\"\n      }\n    },\n    {\n      \"column\": \"Engine\",\n      \"properties\": {\n        \"dtype\": \"number\",\n        \"std\": 1220.466304327981,\n        \"min\": 72.0,\n        \"max\": 1798.0,\n        \"num_unique_values\": 2,\n        \"samples\": [\n          1798.0\n        ],\n        \"semantic_type\": \"\",\n        \"description\": \"\"\n      }\n    },\n    {\n      \"column\": \"Power\",\n      \"properties\": {\n        \"dtype\": \"number\",\n        \"std\": 22.627416997969522,\n        \"min\": 41.0,\n        \"max\": 73.0,\n        \"num_unique_values\": 2,\n        \"samples\": [\n          73.0\n        ],\n        \"semantic_type\": \"\",\n        \"description\": \"\"\n      }\n    },\n    {\n      \"column\": \"Seats\",\n      \"properties\": {\n        \"dtype\": \"number\",\n        \"std\": 0.0,\n        \"min\": 5.0,\n        \"max\": 5.0,\n        \"num_unique_values\": 1,\n        \"samples\": [\n          5.0\n        ],\n        \"semantic_type\": \"\",\n        \"description\": \"\"\n      }\n    },\n    {\n      \"column\": \"New_Price\",\n      \"properties\": {\n        \"dtype\": \"number\",\n        \"std\": null,\n        \"min\": 1358.0,\n        \"max\": 1358.0,\n        \"num_unique_values\": 1,\n        \"samples\": [\n          1358.0\n        ],\n        \"semantic_type\": \"\",\n        \"description\": \"\"\n      }\n    },\n    {\n      \"column\": \"Price\",\n      \"properties\": {\n        \"dtype\": \"number\",\n        \"std\": 0.1767766952966369,\n        \"min\": 12.75,\n        \"max\": 13.0,\n        \"num_unique_values\": 2,\n        \"samples\": [\n          12.75\n        ],\n        \"semantic_type\": \"\",\n        \"description\": \"\"\n      }\n    }\n  ]\n}"
            }
          },
          "metadata": {},
          "execution_count": 25
        }
      ]
    },
    {
      "cell_type": "markdown",
      "metadata": {
        "id": "z6rJEwsPN5p0"
      },
      "source": [
        "Now, I am not a physicist, so let's just pretend that it is the correct formula."
      ]
    },
    {
      "cell_type": "code",
      "execution_count": null,
      "metadata": {
        "id": "Kz-nb6X6N5p0"
      },
      "outputs": [],
      "source": [
        "df[~df['Mileage'].str.contains('kmpl')]"
      ]
    },
    {
      "cell_type": "markdown",
      "metadata": {
        "id": "27w_jmUcN5p1"
      },
      "source": [
        "This is great; we can now rest assured that the values are either `NaN` or `kmpl`. Lets now keep the numbers only!"
      ]
    },
    {
      "cell_type": "code",
      "execution_count": null,
      "metadata": {
        "colab": {
          "base_uri": "https://localhost:8080/"
        },
        "id": "d4qthby_N5p1",
        "outputId": "db194403-bfd2-4adb-a585-ed10f4b6050c"
      },
      "outputs": [
        {
          "output_type": "stream",
          "name": "stdout",
          "text": [
            "float64\n",
            "[37.24 19.67 18.2  20.77 15.2  29.54 23.08 11.36 20.54 22.3  21.56 16.8\n",
            " 25.2  12.7   0.   13.5  25.8  28.4  20.45 14.84 22.69 23.65 13.53 18.5\n",
            " 14.4  20.92 17.5  12.8  19.01 14.53 11.18 12.4  16.09 14.   24.3  18.15\n",
            " 11.74 22.07 19.7  25.4  25.32 14.62 14.28 14.9  11.25 24.4  16.55 17.11\n",
            " 22.9  17.8  18.9  15.04 25.17 20.36 13.29 13.68 20.   15.8  25.   16.4\n",
            " 24.52 22.1   8.5  15.1  16.95 19.64 16.5  18.53 17.57 18.   23.2  16.73\n",
            " 17.   13.   17.68 22.7  16.2  15.26 23.   19.83 14.94 17.71 14.74 16.\n",
            " 22.32 12.99 23.3  19.15 10.8  15.   22.   21.9  12.05 11.7  21.21 20.73\n",
            " 21.1  24.07 19.   20.58 19.27 11.5  18.6  21.14 11.05 21.76  7.81 21.66\n",
            " 17.2  20.63 19.4  14.8  26.   20.4  21.5  15.3  17.9  16.6  22.54 25.44\n",
            " 13.7  22.48 12.9  19.98 21.4  19.81 15.4  25.47 19.87 17.45 14.7  15.64\n",
            " 15.73 23.59 16.1  27.4  20.46 15.29 20.51 11.8  14.3  14.67 17.19 21.03\n",
            " 22.5  16.82 11.72 17.4  17.05 24.   28.09 20.5  13.1  19.91 18.7  16.38\n",
            " 11.57 17.3  22.95 18.88 23.4  22.74 12.07 17.1  18.48 16.47 23.1  14.07\n",
            " 16.02 19.3  17.7   9.52 14.75 36.82 11.3  21.12 21.02 14.45 19.33 13.8\n",
            " 24.7  11.   11.07 21.43 14.21 18.86 16.07 13.49 20.38 12.   17.01 13.2\n",
            " 20.37 15.96 14.16 13.17 27.62 25.1  15.17 11.33 17.92 12.55 12.6  17.72\n",
            " 18.16 15.68 15.5  12.1  14.83 17.6  14.6  14.66 10.93 20.68  9.9  21.13\n",
            " 20.14 19.2  27.3  16.36 26.59 12.5  13.6  15.06 10.13 17.21 15.97 10.5\n",
            " 14.69 23.9  19.1  21.27 15.9  20.7  14.1  20.89 18.12 12.3  19.71  9.43\n",
            " 13.4  13.14 18.1  22.77 14.49 12.39 10.91 20.85 15.63 27.39 18.3  16.78\n",
            " 25.5  10.   13.73 24.2  14.02 37.56 16.77 24.5  20.34 21.7   9.7  14.33\n",
            " 21.64 19.16 16.93  9.   36.68 16.3  12.62 24.22 20.64 14.24 18.06 10.2\n",
            " 10.1  18.25 13.93 25.83  8.6  13.24 17.09 23.84  8.45 19.6  19.5  20.3\n",
            " 16.05 11.2  27.03 18.78 12.35 14.59 17.32 14.95 13.22 23.03 46.82 15.6\n",
            " 19.12 10.98 46.96 16.46 18.4  11.1  13.01 18.8  16.52 18.44 19.49 23.5\n",
            " 23.8  12.65 20.65 21.72 12.19 26.1  18.33 12.81 17.06 17.67 19.34  8.3\n",
            " 16.96 11.79 20.86 16.98 11.68 15.74 15.7  18.49 10.9  19.59 11.4  13.06\n",
            " 21.   15.15 16.9  18.23 35.   17.16 17.43 19.08 18.56 11.9  34.44 21.79\n",
            " 12.95 25.6  18.83 26.21 13.58 16.25 10.4  17.44 26.88 22.71 17.54 30.94\n",
            " 15.87  9.5  11.56 14.39 19.09 17.85 44.51 18.18 21.19 21.8  15.42 14.47\n",
            " 19.69 12.83  8.   31.92 12.63 14.57 27.28 15.41 45.16 18.19 13.33 16.7\n",
            " 17.84 28.   23.19 11.49 18.51 13.44  8.7   8.77 17.97 23.57 12.37  9.1\n",
            " 12.51 19.44 21.38 16.51 24.8  14.42 26.8  24.04  9.8  19.68 29.96 21.2\n",
            " 19.72 14.2  12.98 23.01 16.12  9.3  15.85   nan 17.88 10.6  11.78  7.94\n",
            " 25.01  8.1  13.9  11.62 20.62 15.11 10.37 18.59  9.74 14.81  8.2  12.97\n",
            "  7.5  42.64  6.4  12.85 18.69 17.24]\n"
          ]
        }
      ],
      "source": [
        "\n",
        "df['Mileage'] = df['Mileage'].apply(lambda x: str(x).replace(' kmpl', ''))\n",
        "\n",
        "df['Mileage'] = df['Mileage'].replace('nan', np.nan)\n",
        "df['Mileage'] = df['Mileage'].replace('null', np.nan)\n",
        "df['Mileage'] = df['Mileage'].fillna('-1')\n",
        "\n",
        "df['Mileage'] = df['Mileage'].astype(float)\n",
        "\n",
        "df['Mileage'] = df['Mileage'].replace(-1, np.nan)\n",
        "print(df['Mileage'].dtype)\n",
        "print(df['Mileage'].unique())"
      ]
    },
    {
      "cell_type": "markdown",
      "metadata": {
        "id": "W-JQUw22N5p7"
      },
      "source": [
        "### Handle null values"
      ]
    },
    {
      "cell_type": "markdown",
      "metadata": {
        "id": "MeOUu8_jN5p8"
      },
      "source": [
        "#### Why Handle Missing Values?\n",
        "\n",
        "Handling missing values is crucial in data analysis and machine learning because they can lead to inaccurate results and reduce the performance of predictive models. Missing values can arise from various sources, such as data entry errors or incomplete data collection. Properly addressing these gaps ensures the dataset's integrity, improving the accuracy and reliability of the analysis or model.\n",
        "\n",
        "#### How to Handle Missing Values\n",
        "\n",
        "There are several methods to handle missing values, depending on the dataset and the desired outcome:\n",
        "\n",
        "1. **Deletion**: <span style=\"color:red\">NOTE RECOMMENDED PLEASE DO NOT DO THIS</span>\n",
        "   - **Listwise Deletion**: Remove entire rows that contain any missing values. This method is straightforward but can lead to significant data loss if many entries are incomplete.\n",
        "   - **Pairwise Deletion**: Use available data without deleting entire rows. This method is useful for correlation or covariance calculations but can be complex to implement.\n",
        "\n",
        "2. **Imputation**:\n",
        "   - **Mean/Median/Mode Imputation**: Replace missing values with the mean, median, or mode of the column. This method is simple and preserves the data size, but it can introduce bias.\n",
        "   - **K-Nearest Neighbors (KNN) Imputation**: Use the mean or median of the nearest neighbors to fill in missing values. This method considers the similarity between instances but can be computationally expensive. (You will need to implement this once you feel confidence to do so)\n",
        "   - **Predictive Model Imputation**: Use machine learning algorithms to predict and fill in missing values based on other available features. This method can provide more accurate imputation but requires a more complex setup. (You will need to implement this once you feel confidence to do so) <span style=\"color:green\"> Best approach in our case </span>\n",
        "\n",
        "3. **Interpolation**:\n",
        "   - Use mathematical interpolation methods (linear, spline, etc.) to estimate and fill missing values. This method is effective for time-series data but may not be suitable for categorical data.\n",
        "\n",
        "4. **Using Algorithms that Support Missing Values**:\n",
        "   - Some machine learning algorithms, like decision trees, can handle missing values internally without needing explicit imputation.\n",
        "\n",
        "5. **Custom Imputation**:\n",
        "   - Develop domain-specific rules or logic to fill missing values based on expert knowledge or unique dataset characteristics.\n",
        "\n",
        "Choosing the appropriate method for handling missing values depends on the data context and the analysis or modeling goals. Each method has its advantages and limitations, so it's essential to consider the potential impact on the dataset and results.\n"
      ]
    },
    {
      "cell_type": "markdown",
      "metadata": {
        "id": "fXwKQRpwN5p8"
      },
      "source": [
        "#### Lets check the columns with the null values again"
      ]
    },
    {
      "cell_type": "code",
      "execution_count": null,
      "metadata": {
        "colab": {
          "base_uri": "https://localhost:8080/"
        },
        "id": "eEKhAVVDN5p8",
        "outputId": "c07a2e00-ed7f-4d60-e61e-449489965ac0"
      },
      "outputs": [
        {
          "output_type": "execute_result",
          "data": {
            "text/plain": [
              "Name                    0\n",
              "Location                0\n",
              "Year                    0\n",
              "Kilometers_Driven       0\n",
              "Fuel_Type               0\n",
              "Transmission            0\n",
              "Owner_Type              0\n",
              "Mileage                 2\n",
              "Engine                 36\n",
              "Power                 143\n",
              "Seats                  42\n",
              "New_Price            5195\n",
              "Price                   0\n",
              "dtype: int64"
            ]
          },
          "metadata": {},
          "execution_count": 27
        }
      ],
      "source": [
        "df.isna().sum()"
      ]
    },
    {
      "cell_type": "code",
      "execution_count": null,
      "metadata": {
        "id": "6r17iCjdN5p8"
      },
      "outputs": [],
      "source": [
        "def fill_with_mode(series):\n",
        "    mode_value = series.mode()\n",
        "    if not mode_value.empty:\n",
        "        return series.fillna(mode_value[0])\n",
        "    return series"
      ]
    },
    {
      "cell_type": "code",
      "execution_count": null,
      "metadata": {
        "id": "eNY6pVYsN5p8"
      },
      "outputs": [],
      "source": [
        "# Fill the 'Mileage' column with the mean of the same 'Name' and 'Year'\n",
        "df['Mileage'] = df.groupby(['Name', 'Year'])['Mileage'].transform(lambda x: x.fillna(x.mean()))\n",
        "# Fill the 'Mileage' column with the mean of the same 'Name'\n",
        "df['Mileage'] = df.groupby(['Name'])['Mileage'].transform(lambda x: x.fillna(x.mean()))\n",
        "# Fill the 'Mileage' column with the mean of the the whole column\n",
        "df['Mileage'] = df['Mileage'].transform(lambda x: x.fillna(x.mean()))"
      ]
    },
    {
      "cell_type": "code",
      "source": [
        "df['Mileage'] =df.groupby(['Name', 'Year'])['Mileage'].transform(lambda x: x.fillna(x.mean()))\n",
        "df['Mileage'] =df.groupby(['Name'])['Mileage'].transform(lambda x: x.fillna(x.mean()))\n",
        "df['Mileage'] =df['Mileage'].transform(lambda x: x.fillna(x.mean()))"
      ],
      "metadata": {
        "id": "8SGJ_9JpY73b"
      },
      "execution_count": null,
      "outputs": []
    },
    {
      "cell_type": "code",
      "source": [
        "df['Engine'] =df.groupby(['Name', 'Year'])['Engine'].transform(fill_with_mode)\n",
        "df['Engine'] =df.groupby(['Name'])['Engine'].transform(fill_with_mode)\n",
        "df['Engine'] =df['Engine'].transform(fill_with_mode)"
      ],
      "metadata": {
        "id": "6MiWTBN5Zhot"
      },
      "execution_count": null,
      "outputs": []
    },
    {
      "cell_type": "code",
      "source": [
        "df['Power'] =df.groupby(['Name', 'Year'])['Power'].transform(fill_with_mode)\n",
        "df['Power'] =df.groupby(['Name'])['Power'].transform(fill_with_mode)\n",
        "df['Power'] =df['Power'].transform(fill_with_mode)"
      ],
      "metadata": {
        "id": "C7mxdlYYZ2kx"
      },
      "execution_count": null,
      "outputs": []
    },
    {
      "cell_type": "code",
      "source": [
        "df['Seats'] =df.groupby(['Name', 'Year'])['Seats'].transform(fill_with_mode)\n",
        "df['Seats'] =df.groupby(['Name'])['Seats'].transform(fill_with_mode)\n",
        "df['Seats'] =df['Seats'].transform(fill_with_mode)"
      ],
      "metadata": {
        "id": "Binr9A4baJmz"
      },
      "execution_count": null,
      "outputs": []
    },
    {
      "cell_type": "code",
      "source": [
        "df['New_Price'] =df.groupby(['Name', 'Year'])['New_Price'].transform(lambda x: x.fillna(x.mean()))\n",
        "df['New_Price'] =df.groupby(['Name'])['New_Price'].transform(lambda x: x.fillna(x.mean()))\n",
        "df['New_Price'] =df['New_Price'].transform(lambda x: x.fillna(x.mean()))"
      ],
      "metadata": {
        "id": "GAM8wGojaZ99"
      },
      "execution_count": null,
      "outputs": []
    },
    {
      "cell_type": "code",
      "source": [
        "df.isna().sum()"
      ],
      "metadata": {
        "colab": {
          "base_uri": "https://localhost:8080/"
        },
        "id": "XIZ131Oya6PK",
        "outputId": "b7772c0a-864b-41e3-b9c7-c78ff3fd3965"
      },
      "execution_count": null,
      "outputs": [
        {
          "output_type": "execute_result",
          "data": {
            "text/plain": [
              "Name                 0\n",
              "Location             0\n",
              "Year                 0\n",
              "Kilometers_Driven    0\n",
              "Fuel_Type            0\n",
              "Transmission         0\n",
              "Owner_Type           0\n",
              "Mileage              0\n",
              "Engine               0\n",
              "Power                0\n",
              "Seats                0\n",
              "New_Price            0\n",
              "Price                0\n",
              "dtype: int64"
            ]
          },
          "metadata": {},
          "execution_count": 34
        }
      ]
    },
    {
      "cell_type": "code",
      "execution_count": null,
      "metadata": {
        "id": "qMOXqklGN5p8"
      },
      "outputs": [],
      "source": [
        "# Fill the 'Engine' column with the mode of the same 'Name' and 'Year'\n",
        "df['Engine'] = df.groupby(['Name', 'Year'])['Engine'].transform(fill_with_mode)\n",
        "# Fill the 'Engine' column with the mode of the same 'Name'\n",
        "df['Engine'] = df.groupby(['Name'])['Engine'].transform(fill_with_mode)\n",
        "# Fill the 'Engine' column with the mode of the the whole column\n",
        "df['Engine'] = df['Engine'].transform(fill_with_mode)"
      ]
    },
    {
      "cell_type": "code",
      "execution_count": null,
      "metadata": {
        "id": "ktWaNRENN5p8"
      },
      "outputs": [],
      "source": [
        "# Fill the 'Power' column with the mode of the same 'Name' and 'Year'\n",
        "df['Power'] = df.groupby(['Name', 'Year'])['Power'].transform(fill_with_mode)\n",
        "# Fill the 'Power' column with the mode of the same 'Name'\n",
        "df['Power'] = df.groupby(['Name'])['Power'].transform(fill_with_mode)\n",
        "# Fill the 'Power' column with the mode of the the whole column\n",
        "df['Power'] = df['Power'].transform(fill_with_mode)"
      ]
    },
    {
      "cell_type": "code",
      "execution_count": null,
      "metadata": {
        "id": "Rym1ryEdN5p9"
      },
      "outputs": [],
      "source": [
        "# Fill the 'Seats' column with the mode of the same 'Name' and 'Year'\n",
        "df['Seats'] = df.groupby(['Name', 'Year'])['Seats'].transform(fill_with_mode)\n",
        "# Fill the 'Seats' column with the mode of the same 'Name'\n",
        "df['Seats'] = df.groupby(['Name'])['Seats'].transform(fill_with_mode)\n",
        "# Fill the 'Seats' column with the mode of the the whole column\n",
        "df['Seats'] = df['Seats'].transform(fill_with_mode)"
      ]
    },
    {
      "cell_type": "code",
      "execution_count": null,
      "metadata": {
        "id": "ixow5CMcN5p9"
      },
      "outputs": [],
      "source": [
        "# Fill the 'New_Price' column with the mean of the same 'Name' and 'Year'\n",
        "df['New_Price'] = df.groupby(['Name', 'Year'])['New_Price'].transform(lambda x: x.fillna(x.mean()))\n",
        "# Fill the 'New_Price' column with the mean of the same 'Name'\n",
        "df['New_Price'] = df.groupby(['Name'])['New_Price'].transform(lambda x: x.fillna(x.mean()))\n",
        "# Fill the 'New_Price' column with the mean of the the whole column\n",
        "df['New_Price'] = df['New_Price'].transform(lambda x: x.fillna(x.mean()))"
      ]
    },
    {
      "cell_type": "code",
      "execution_count": null,
      "metadata": {
        "colab": {
          "base_uri": "https://localhost:8080/"
        },
        "id": "gmql6bztN5p9",
        "outputId": "9ecaa935-cd7f-4e7b-c66c-8ff808593bb0"
      },
      "outputs": [
        {
          "output_type": "execute_result",
          "data": {
            "text/plain": [
              "Name                 0\n",
              "Location             0\n",
              "Year                 0\n",
              "Kilometers_Driven    0\n",
              "Fuel_Type            0\n",
              "Transmission         0\n",
              "Owner_Type           0\n",
              "Mileage              0\n",
              "Engine               0\n",
              "Power                0\n",
              "Seats                0\n",
              "New_Price            0\n",
              "Price                0\n",
              "dtype: int64"
            ]
          },
          "metadata": {},
          "execution_count": 35
        }
      ],
      "source": [
        "df.isna().sum()"
      ]
    },
    {
      "cell_type": "markdown",
      "metadata": {
        "id": "UuTue40aN5p9"
      },
      "source": [
        "<span style=\"color: red\" >Keep in mind that these are not the best ways to fill in the missing values; this is just a tutorial on several methods. We encourage you to search for and improve upon these techniques. Please try to come up with a better approach and share it with your instructor.</span>"
      ]
    },
    {
      "cell_type": "markdown",
      "metadata": {
        "id": "j8Kr7cXsN5p9"
      },
      "source": [
        "<h1 style=\"color: cyan;\"> Please try to get better aproaches to deal with missing value for each column and share it in discrod!</h1>"
      ]
    },
    {
      "cell_type": "code",
      "execution_count": null,
      "metadata": {
        "id": "_H7omMShN5p9"
      },
      "outputs": [],
      "source": []
    },
    {
      "cell_type": "markdown",
      "metadata": {
        "id": "BrkqmfjWN5p9"
      },
      "source": [
        "### Convert Non-Numeric Columns"
      ]
    },
    {
      "cell_type": "markdown",
      "metadata": {
        "id": "zd8qtHF8N5p9"
      },
      "source": [
        "#### Why Convert Non-Numeric Columns?\n",
        "\n",
        "In data analysis and machine learning, numerical data is often easier to work with compared to categorical or non-numeric data. Many algorithms require numerical input, so converting non-numeric columns into a numerical format is crucial for performing statistical analysis, creating visualizations, or building predictive models. This conversion process can include encoding categorical data, handling missing values, and ensuring consistency in the dataset.\n",
        "\n",
        "#### How to Convert Non-Numeric Columns\n",
        "\n",
        "You can use several techniques to convert non-numeric columns in a DataFrame, such as:\n",
        "\n",
        "- **Label Encoding**: Assigns a unique integer to each category in a categorical column.\n",
        "- **One-Hot Encoding**: Creates binary columns for each category, allowing the algorithm to treat them independently.\n",
        "- **Handling Missing Values**: Replaces missing values with a placeholder or a calculated value, ensuring no information is lost."
      ]
    },
    {
      "cell_type": "code",
      "source": [
        "df.select_dtypes(exclude=['number'])"
      ],
      "metadata": {
        "colab": {
          "base_uri": "https://localhost:8080/",
          "height": 455
        },
        "id": "8NCh0k1tbv9C",
        "outputId": "46ec5317-a566-4fae-d494-e783e78b4fb3"
      },
      "execution_count": null,
      "outputs": [
        {
          "output_type": "execute_result",
          "data": {
            "text/plain": [
              "                                  Name    Location Fuel_Type Transmission  \\\n",
              "ID                                                                          \n",
              "0               Maruti Wagon R LXI CNG      Mumbai       CNG       Manual   \n",
              "1     Hyundai Creta 1.6 CRDi SX Option        Pune    Diesel       Manual   \n",
              "2                         Honda Jazz V     Chennai    Petrol       Manual   \n",
              "3                    Maruti Ertiga VDI     Chennai    Diesel       Manual   \n",
              "4      Audi A4 New 2.0 TDI Multitronic  Coimbatore    Diesel    Automatic   \n",
              "...                                ...         ...       ...          ...   \n",
              "6014                  Maruti Swift VDI       Delhi    Diesel       Manual   \n",
              "6015          Hyundai Xcent 1.1 CRDi S      Jaipur    Diesel       Manual   \n",
              "6016             Mahindra Xylo D4 BSIV      Jaipur    Diesel       Manual   \n",
              "6017                Maruti Wagon R VXI     Kolkata    Petrol       Manual   \n",
              "6018             Chevrolet Beat Diesel   Hyderabad    Diesel       Manual   \n",
              "\n",
              "     Owner_Type  \n",
              "ID               \n",
              "0         First  \n",
              "1         First  \n",
              "2         First  \n",
              "3         First  \n",
              "4        Second  \n",
              "...         ...  \n",
              "6014      First  \n",
              "6015      First  \n",
              "6016     Second  \n",
              "6017      First  \n",
              "6018      First  \n",
              "\n",
              "[6019 rows x 5 columns]"
            ],
            "text/html": [
              "\n",
              "  <div id=\"df-ec28397b-52a3-44d2-bd59-fbe1245cf6bd\" class=\"colab-df-container\">\n",
              "    <div>\n",
              "<style scoped>\n",
              "    .dataframe tbody tr th:only-of-type {\n",
              "        vertical-align: middle;\n",
              "    }\n",
              "\n",
              "    .dataframe tbody tr th {\n",
              "        vertical-align: top;\n",
              "    }\n",
              "\n",
              "    .dataframe thead th {\n",
              "        text-align: right;\n",
              "    }\n",
              "</style>\n",
              "<table border=\"1\" class=\"dataframe\">\n",
              "  <thead>\n",
              "    <tr style=\"text-align: right;\">\n",
              "      <th></th>\n",
              "      <th>Name</th>\n",
              "      <th>Location</th>\n",
              "      <th>Fuel_Type</th>\n",
              "      <th>Transmission</th>\n",
              "      <th>Owner_Type</th>\n",
              "    </tr>\n",
              "    <tr>\n",
              "      <th>ID</th>\n",
              "      <th></th>\n",
              "      <th></th>\n",
              "      <th></th>\n",
              "      <th></th>\n",
              "      <th></th>\n",
              "    </tr>\n",
              "  </thead>\n",
              "  <tbody>\n",
              "    <tr>\n",
              "      <th>0</th>\n",
              "      <td>Maruti Wagon R LXI CNG</td>\n",
              "      <td>Mumbai</td>\n",
              "      <td>CNG</td>\n",
              "      <td>Manual</td>\n",
              "      <td>First</td>\n",
              "    </tr>\n",
              "    <tr>\n",
              "      <th>1</th>\n",
              "      <td>Hyundai Creta 1.6 CRDi SX Option</td>\n",
              "      <td>Pune</td>\n",
              "      <td>Diesel</td>\n",
              "      <td>Manual</td>\n",
              "      <td>First</td>\n",
              "    </tr>\n",
              "    <tr>\n",
              "      <th>2</th>\n",
              "      <td>Honda Jazz V</td>\n",
              "      <td>Chennai</td>\n",
              "      <td>Petrol</td>\n",
              "      <td>Manual</td>\n",
              "      <td>First</td>\n",
              "    </tr>\n",
              "    <tr>\n",
              "      <th>3</th>\n",
              "      <td>Maruti Ertiga VDI</td>\n",
              "      <td>Chennai</td>\n",
              "      <td>Diesel</td>\n",
              "      <td>Manual</td>\n",
              "      <td>First</td>\n",
              "    </tr>\n",
              "    <tr>\n",
              "      <th>4</th>\n",
              "      <td>Audi A4 New 2.0 TDI Multitronic</td>\n",
              "      <td>Coimbatore</td>\n",
              "      <td>Diesel</td>\n",
              "      <td>Automatic</td>\n",
              "      <td>Second</td>\n",
              "    </tr>\n",
              "    <tr>\n",
              "      <th>...</th>\n",
              "      <td>...</td>\n",
              "      <td>...</td>\n",
              "      <td>...</td>\n",
              "      <td>...</td>\n",
              "      <td>...</td>\n",
              "    </tr>\n",
              "    <tr>\n",
              "      <th>6014</th>\n",
              "      <td>Maruti Swift VDI</td>\n",
              "      <td>Delhi</td>\n",
              "      <td>Diesel</td>\n",
              "      <td>Manual</td>\n",
              "      <td>First</td>\n",
              "    </tr>\n",
              "    <tr>\n",
              "      <th>6015</th>\n",
              "      <td>Hyundai Xcent 1.1 CRDi S</td>\n",
              "      <td>Jaipur</td>\n",
              "      <td>Diesel</td>\n",
              "      <td>Manual</td>\n",
              "      <td>First</td>\n",
              "    </tr>\n",
              "    <tr>\n",
              "      <th>6016</th>\n",
              "      <td>Mahindra Xylo D4 BSIV</td>\n",
              "      <td>Jaipur</td>\n",
              "      <td>Diesel</td>\n",
              "      <td>Manual</td>\n",
              "      <td>Second</td>\n",
              "    </tr>\n",
              "    <tr>\n",
              "      <th>6017</th>\n",
              "      <td>Maruti Wagon R VXI</td>\n",
              "      <td>Kolkata</td>\n",
              "      <td>Petrol</td>\n",
              "      <td>Manual</td>\n",
              "      <td>First</td>\n",
              "    </tr>\n",
              "    <tr>\n",
              "      <th>6018</th>\n",
              "      <td>Chevrolet Beat Diesel</td>\n",
              "      <td>Hyderabad</td>\n",
              "      <td>Diesel</td>\n",
              "      <td>Manual</td>\n",
              "      <td>First</td>\n",
              "    </tr>\n",
              "  </tbody>\n",
              "</table>\n",
              "<p>6019 rows × 5 columns</p>\n",
              "</div>\n",
              "    <div class=\"colab-df-buttons\">\n",
              "\n",
              "  <div class=\"colab-df-container\">\n",
              "    <button class=\"colab-df-convert\" onclick=\"convertToInteractive('df-ec28397b-52a3-44d2-bd59-fbe1245cf6bd')\"\n",
              "            title=\"Convert this dataframe to an interactive table.\"\n",
              "            style=\"display:none;\">\n",
              "\n",
              "  <svg xmlns=\"http://www.w3.org/2000/svg\" height=\"24px\" viewBox=\"0 -960 960 960\">\n",
              "    <path d=\"M120-120v-720h720v720H120Zm60-500h600v-160H180v160Zm220 220h160v-160H400v160Zm0 220h160v-160H400v160ZM180-400h160v-160H180v160Zm440 0h160v-160H620v160ZM180-180h160v-160H180v160Zm440 0h160v-160H620v160Z\"/>\n",
              "  </svg>\n",
              "    </button>\n",
              "\n",
              "  <style>\n",
              "    .colab-df-container {\n",
              "      display:flex;\n",
              "      gap: 12px;\n",
              "    }\n",
              "\n",
              "    .colab-df-convert {\n",
              "      background-color: #E8F0FE;\n",
              "      border: none;\n",
              "      border-radius: 50%;\n",
              "      cursor: pointer;\n",
              "      display: none;\n",
              "      fill: #1967D2;\n",
              "      height: 32px;\n",
              "      padding: 0 0 0 0;\n",
              "      width: 32px;\n",
              "    }\n",
              "\n",
              "    .colab-df-convert:hover {\n",
              "      background-color: #E2EBFA;\n",
              "      box-shadow: 0px 1px 2px rgba(60, 64, 67, 0.3), 0px 1px 3px 1px rgba(60, 64, 67, 0.15);\n",
              "      fill: #174EA6;\n",
              "    }\n",
              "\n",
              "    .colab-df-buttons div {\n",
              "      margin-bottom: 4px;\n",
              "    }\n",
              "\n",
              "    [theme=dark] .colab-df-convert {\n",
              "      background-color: #3B4455;\n",
              "      fill: #D2E3FC;\n",
              "    }\n",
              "\n",
              "    [theme=dark] .colab-df-convert:hover {\n",
              "      background-color: #434B5C;\n",
              "      box-shadow: 0px 1px 3px 1px rgba(0, 0, 0, 0.15);\n",
              "      filter: drop-shadow(0px 1px 2px rgba(0, 0, 0, 0.3));\n",
              "      fill: #FFFFFF;\n",
              "    }\n",
              "  </style>\n",
              "\n",
              "    <script>\n",
              "      const buttonEl =\n",
              "        document.querySelector('#df-ec28397b-52a3-44d2-bd59-fbe1245cf6bd button.colab-df-convert');\n",
              "      buttonEl.style.display =\n",
              "        google.colab.kernel.accessAllowed ? 'block' : 'none';\n",
              "\n",
              "      async function convertToInteractive(key) {\n",
              "        const element = document.querySelector('#df-ec28397b-52a3-44d2-bd59-fbe1245cf6bd');\n",
              "        const dataTable =\n",
              "          await google.colab.kernel.invokeFunction('convertToInteractive',\n",
              "                                                    [key], {});\n",
              "        if (!dataTable) return;\n",
              "\n",
              "        const docLinkHtml = 'Like what you see? Visit the ' +\n",
              "          '<a target=\"_blank\" href=https://colab.research.google.com/notebooks/data_table.ipynb>data table notebook</a>'\n",
              "          + ' to learn more about interactive tables.';\n",
              "        element.innerHTML = '';\n",
              "        dataTable['output_type'] = 'display_data';\n",
              "        await google.colab.output.renderOutput(dataTable, element);\n",
              "        const docLink = document.createElement('div');\n",
              "        docLink.innerHTML = docLinkHtml;\n",
              "        element.appendChild(docLink);\n",
              "      }\n",
              "    </script>\n",
              "  </div>\n",
              "\n",
              "\n",
              "<div id=\"df-303f71c3-c506-4877-8048-c5999e5b0cc7\">\n",
              "  <button class=\"colab-df-quickchart\" onclick=\"quickchart('df-303f71c3-c506-4877-8048-c5999e5b0cc7')\"\n",
              "            title=\"Suggest charts\"\n",
              "            style=\"display:none;\">\n",
              "\n",
              "<svg xmlns=\"http://www.w3.org/2000/svg\" height=\"24px\"viewBox=\"0 0 24 24\"\n",
              "     width=\"24px\">\n",
              "    <g>\n",
              "        <path d=\"M19 3H5c-1.1 0-2 .9-2 2v14c0 1.1.9 2 2 2h14c1.1 0 2-.9 2-2V5c0-1.1-.9-2-2-2zM9 17H7v-7h2v7zm4 0h-2V7h2v10zm4 0h-2v-4h2v4z\"/>\n",
              "    </g>\n",
              "</svg>\n",
              "  </button>\n",
              "\n",
              "<style>\n",
              "  .colab-df-quickchart {\n",
              "      --bg-color: #E8F0FE;\n",
              "      --fill-color: #1967D2;\n",
              "      --hover-bg-color: #E2EBFA;\n",
              "      --hover-fill-color: #174EA6;\n",
              "      --disabled-fill-color: #AAA;\n",
              "      --disabled-bg-color: #DDD;\n",
              "  }\n",
              "\n",
              "  [theme=dark] .colab-df-quickchart {\n",
              "      --bg-color: #3B4455;\n",
              "      --fill-color: #D2E3FC;\n",
              "      --hover-bg-color: #434B5C;\n",
              "      --hover-fill-color: #FFFFFF;\n",
              "      --disabled-bg-color: #3B4455;\n",
              "      --disabled-fill-color: #666;\n",
              "  }\n",
              "\n",
              "  .colab-df-quickchart {\n",
              "    background-color: var(--bg-color);\n",
              "    border: none;\n",
              "    border-radius: 50%;\n",
              "    cursor: pointer;\n",
              "    display: none;\n",
              "    fill: var(--fill-color);\n",
              "    height: 32px;\n",
              "    padding: 0;\n",
              "    width: 32px;\n",
              "  }\n",
              "\n",
              "  .colab-df-quickchart:hover {\n",
              "    background-color: var(--hover-bg-color);\n",
              "    box-shadow: 0 1px 2px rgba(60, 64, 67, 0.3), 0 1px 3px 1px rgba(60, 64, 67, 0.15);\n",
              "    fill: var(--button-hover-fill-color);\n",
              "  }\n",
              "\n",
              "  .colab-df-quickchart-complete:disabled,\n",
              "  .colab-df-quickchart-complete:disabled:hover {\n",
              "    background-color: var(--disabled-bg-color);\n",
              "    fill: var(--disabled-fill-color);\n",
              "    box-shadow: none;\n",
              "  }\n",
              "\n",
              "  .colab-df-spinner {\n",
              "    border: 2px solid var(--fill-color);\n",
              "    border-color: transparent;\n",
              "    border-bottom-color: var(--fill-color);\n",
              "    animation:\n",
              "      spin 1s steps(1) infinite;\n",
              "  }\n",
              "\n",
              "  @keyframes spin {\n",
              "    0% {\n",
              "      border-color: transparent;\n",
              "      border-bottom-color: var(--fill-color);\n",
              "      border-left-color: var(--fill-color);\n",
              "    }\n",
              "    20% {\n",
              "      border-color: transparent;\n",
              "      border-left-color: var(--fill-color);\n",
              "      border-top-color: var(--fill-color);\n",
              "    }\n",
              "    30% {\n",
              "      border-color: transparent;\n",
              "      border-left-color: var(--fill-color);\n",
              "      border-top-color: var(--fill-color);\n",
              "      border-right-color: var(--fill-color);\n",
              "    }\n",
              "    40% {\n",
              "      border-color: transparent;\n",
              "      border-right-color: var(--fill-color);\n",
              "      border-top-color: var(--fill-color);\n",
              "    }\n",
              "    60% {\n",
              "      border-color: transparent;\n",
              "      border-right-color: var(--fill-color);\n",
              "    }\n",
              "    80% {\n",
              "      border-color: transparent;\n",
              "      border-right-color: var(--fill-color);\n",
              "      border-bottom-color: var(--fill-color);\n",
              "    }\n",
              "    90% {\n",
              "      border-color: transparent;\n",
              "      border-bottom-color: var(--fill-color);\n",
              "    }\n",
              "  }\n",
              "</style>\n",
              "\n",
              "  <script>\n",
              "    async function quickchart(key) {\n",
              "      const quickchartButtonEl =\n",
              "        document.querySelector('#' + key + ' button');\n",
              "      quickchartButtonEl.disabled = true;  // To prevent multiple clicks.\n",
              "      quickchartButtonEl.classList.add('colab-df-spinner');\n",
              "      try {\n",
              "        const charts = await google.colab.kernel.invokeFunction(\n",
              "            'suggestCharts', [key], {});\n",
              "      } catch (error) {\n",
              "        console.error('Error during call to suggestCharts:', error);\n",
              "      }\n",
              "      quickchartButtonEl.classList.remove('colab-df-spinner');\n",
              "      quickchartButtonEl.classList.add('colab-df-quickchart-complete');\n",
              "    }\n",
              "    (() => {\n",
              "      let quickchartButtonEl =\n",
              "        document.querySelector('#df-303f71c3-c506-4877-8048-c5999e5b0cc7 button');\n",
              "      quickchartButtonEl.style.display =\n",
              "        google.colab.kernel.accessAllowed ? 'block' : 'none';\n",
              "    })();\n",
              "  </script>\n",
              "</div>\n",
              "\n",
              "    </div>\n",
              "  </div>\n"
            ],
            "application/vnd.google.colaboratory.intrinsic+json": {
              "type": "dataframe",
              "summary": "{\n  \"name\": \"df\",\n  \"rows\": 6019,\n  \"fields\": [\n    {\n      \"column\": \"ID\",\n      \"properties\": {\n        \"dtype\": \"number\",\n        \"std\": 1737,\n        \"min\": 0,\n        \"max\": 6018,\n        \"num_unique_values\": 6019,\n        \"samples\": [\n          2868,\n          5924,\n          3764\n        ],\n        \"semantic_type\": \"\",\n        \"description\": \"\"\n      }\n    },\n    {\n      \"column\": \"Name\",\n      \"properties\": {\n        \"dtype\": \"category\",\n        \"num_unique_values\": 1876,\n        \"samples\": [\n          \"Hyundai i20 1.2 Era\",\n          \"Toyota Corolla Altis GL MT\",\n          \"BMW 5 Series 2013-2017 520d Luxury Line\"\n        ],\n        \"semantic_type\": \"\",\n        \"description\": \"\"\n      }\n    },\n    {\n      \"column\": \"Location\",\n      \"properties\": {\n        \"dtype\": \"category\",\n        \"num_unique_values\": 11,\n        \"samples\": [\n          \"Jaipur\",\n          \"Mumbai\",\n          \"Bangalore\"\n        ],\n        \"semantic_type\": \"\",\n        \"description\": \"\"\n      }\n    },\n    {\n      \"column\": \"Fuel_Type\",\n      \"properties\": {\n        \"dtype\": \"category\",\n        \"num_unique_values\": 5,\n        \"samples\": [\n          \"Diesel\",\n          \"Electric\",\n          \"Petrol\"\n        ],\n        \"semantic_type\": \"\",\n        \"description\": \"\"\n      }\n    },\n    {\n      \"column\": \"Transmission\",\n      \"properties\": {\n        \"dtype\": \"category\",\n        \"num_unique_values\": 2,\n        \"samples\": [\n          \"Automatic\",\n          \"Manual\"\n        ],\n        \"semantic_type\": \"\",\n        \"description\": \"\"\n      }\n    },\n    {\n      \"column\": \"Owner_Type\",\n      \"properties\": {\n        \"dtype\": \"category\",\n        \"num_unique_values\": 4,\n        \"samples\": [\n          \"Second\",\n          \"Third\"\n        ],\n        \"semantic_type\": \"\",\n        \"description\": \"\"\n      }\n    }\n  ]\n}"
            }
          },
          "metadata": {},
          "execution_count": 36
        }
      ]
    },
    {
      "cell_type": "code",
      "execution_count": null,
      "metadata": {
        "id": "bUGCqzPMN5p-"
      },
      "outputs": [],
      "source": [
        "df.select_dtypes(exclude=['number'])"
      ]
    },
    {
      "cell_type": "code",
      "source": [
        "ohe = OneHotEncoder(sparse_output=False)\n",
        "\n",
        "name_encoded = ohe.fit_transform(df[['Name']])\n",
        "name_encoded_df = pd.DataFrame(name_encoded, columns=ohe.get_feature_names_out(['Name']))\n",
        "\n",
        "location_encoded = ohe.fit_transform(df[['Location']])\n",
        "location_encoded_df = pd.DataFrame(location_encoded, columns=ohe.get_feature_names_out(['Location']))\n",
        "\n",
        "df_one_hot = pd.concat([df, name_encoded_df, location_encoded_df], axis=1)\n",
        "\n",
        "df_one_hot.drop(['Name', 'Location'], axis=1, inplace=True)\n",
        "\n",
        "df = df_one_hot"
      ],
      "metadata": {
        "id": "1Z1SQRfZb4eT"
      },
      "execution_count": null,
      "outputs": []
    },
    {
      "cell_type": "markdown",
      "metadata": {
        "id": "OjmDl_LhN5p-"
      },
      "source": [
        "#### Using OneHotEncoder"
      ]
    },
    {
      "cell_type": "code",
      "execution_count": null,
      "metadata": {
        "id": "9OrvOtgGN5p-"
      },
      "outputs": [],
      "source": [
        "# Initialize OneHotEncoder\n",
        "ohe = OneHotEncoder(sparse_output=False)\n",
        "\n",
        "# One-hot encode 'Name' column\n",
        "name_encoded = ohe.fit_transform(df[['Name']])\n",
        "name_encoded_df = pd.DataFrame(name_encoded, columns=ohe.get_feature_names_out(['Name']))\n",
        "\n",
        "# One-hot encode 'Location' column\n",
        "location_encoded = ohe.fit_transform(df[['Location']])\n",
        "location_encoded_df = pd.DataFrame(location_encoded, columns=ohe.get_feature_names_out(['Location']))\n",
        "\n",
        "# Concatenate the original dataframe with the new one-hot encoded dataframes\n",
        "df_one_hot = pd.concat([df, name_encoded_df, location_encoded_df], axis=1)\n",
        "\n",
        "# Drop original columns if not needed\n",
        "df_one_hot.drop(['Name', 'Location'], axis=1, inplace=True)\n",
        "\n",
        "df = df_one_hot"
      ]
    },
    {
      "cell_type": "markdown",
      "metadata": {
        "id": "xv9LXCooN5p-"
      },
      "source": [
        "#### Using LabelEncoder"
      ]
    },
    {
      "cell_type": "code",
      "execution_count": null,
      "metadata": {
        "id": "BFXbOdq1N5p-"
      },
      "outputs": [],
      "source": [
        "# Initialize LabelEncoder\n",
        "le = LabelEncoder()\n",
        "\n",
        "# Label encode 'Fuel_Type' column\n",
        "df['Fuel_Type'] = le.fit_transform(df['Fuel_Type'])\n",
        "\n",
        "# Label encode 'Transmission' column\n",
        "df['Transmission'] = le.fit_transform(df['Transmission'])\n",
        "\n",
        "# Label encode 'Owner_Type' column\n",
        "df['Owner_Type'] = le.fit_transform(df['Owner_Type'])"
      ]
    },
    {
      "cell_type": "code",
      "source": [
        "le = LabelEncoder()\n",
        "\n",
        "df['Fuel_Type'] = le.fit_transform(df['Fuel_Type'])\n",
        "df['Transmission'] = le.fit_transform(df['Transmission'])\n",
        "df['Owner_Type'] = le.fit_transform(df['Owner_Type'])"
      ],
      "metadata": {
        "id": "KHJNdPqqeOw_"
      },
      "execution_count": null,
      "outputs": []
    },
    {
      "cell_type": "markdown",
      "metadata": {
        "id": "IguTO0itN5p-"
      },
      "source": [
        "#### Justification for Encoding Methods\n",
        "\n",
        "1. **One-Hot Encoding:**\n",
        "   - **Applied to `Name` and `Location`:**\n",
        "     - **Reason:**\n",
        "       - These columns contain categorical data without any intrinsic order or ranking between the categories.\n",
        "       - One-hot encoding is ideal for converting these categorical variables into a numerical format, creating binary vectors for each category.\n",
        "       - This method is particularly useful when dealing with nominal data, as it prevents the algorithm from assuming any ordinal relationship.\n",
        "\n",
        "2. **Label Encoding:**\n",
        "   - **Applied to `Fuel_Type`, `Transmission`, and `Owner_Type`:**\n",
        "     - **Reason:**\n",
        "       - These columns have a limited number of unique categories, making them suitable for label encoding.\n",
        "       - Although they do not necessarily have a natural order, label encoding efficiently converts them into numerical values, reducing dimensionality.\n",
        "       - This approach is chosen over one-hot encoding to keep the feature space manageable, especially when the categories are few and do not imply an ordinal relationship.\n"
      ]
    },
    {
      "cell_type": "markdown",
      "metadata": {
        "id": "KK5T7iUQN5p-"
      },
      "source": [
        "# 3- Visualization"
      ]
    },
    {
      "cell_type": "markdown",
      "metadata": {
        "id": "OPaeNJvuN5p-"
      },
      "source": [
        "### 1. Correlation Matrix"
      ]
    },
    {
      "cell_type": "code",
      "execution_count": null,
      "metadata": {
        "colab": {
          "base_uri": "https://localhost:8080/",
          "height": 699
        },
        "id": "Pfdln3OJN5p-",
        "outputId": "60ee0415-355c-4677-ed2e-6cf2d6fb304d"
      },
      "outputs": [
        {
          "output_type": "display_data",
          "data": {
            "text/plain": [
              "<Figure size 1000x800 with 2 Axes>"
            ],
            "image/png": "[encoded data removed]"
          },
          "metadata": {}
        }
      ],
      "source": [
        "corr_matrix = df.corr()\n",
        "\n",
        "selected_columns = ['New_Price', 'Mileage', 'Engine', 'Power', 'Year', 'Kilometers_Driven']\n",
        "selected_corr_matrix = corr_matrix.loc[selected_columns, selected_columns]\n",
        "\n",
        "plt.figure(figsize=(10, 8))\n",
        "sns.heatmap(selected_corr_matrix, annot=True, cmap='coolwarm', center=0)\n",
        "plt.title('Correlation Matrix of Selected Features')\n",
        "plt.show()"
      ]
    },
    {
      "cell_type": "markdown",
      "metadata": {
        "id": "RCub92s3N5p_"
      },
      "source": [
        "### 2. Triangle Correlation Heatmap"
      ]
    },
    {
      "cell_type": "code",
      "source": [
        "corr_matrix = df.corr()\n",
        "\n",
        "selected_columns = ['New_Price', 'Mileage', 'Engine', 'Power', 'Year', 'Kilometers_Driven']\n",
        "selected_corr_matrix = corr_matrix.loc[selected_columns, selected_columns]\n",
        "\n",
        "plt.figure(figsize=(10, 8))\n",
        "\n",
        "mask = np.triu(np.ones_like(selected_corr_matrix, dtype=bool))\n",
        "\n",
        "sns.heatmap(selected_corr_matrix, annot=True, cmap='coolwarm', center=0, mask=mask)\n",
        "plt.title('Correlation Matrix of Selected Features (Half Mask)')\n",
        "plt.show()\n"
      ],
      "metadata": {
        "colab": {
          "base_uri": "https://localhost:8080/",
          "height": 699
        },
        "id": "QA0LiKR7-Xkf",
        "outputId": "6a601c30-5f1d-4c5d-8f93-0e8ff2c002f9"
      },
      "execution_count": null,
      "outputs": [
        {
          "output_type": "display_data",
          "data": {
            "text/plain": [
              "<Figure size 1000x800 with 2 Axes>"
            ],
            "image/png": "[encoded data removed]"
          },
          "metadata": {}
        }
      ]
    },
    {
      "cell_type": "code",
      "execution_count": null,
      "metadata": {
        "id": "505ETi21N5p_"
      },
      "outputs": [],
      "source": [
        "corr_matrix = df.corr()\n",
        "\n",
        "selected_columns = ['New_Price', 'Mileage', 'Engine', 'Power', 'Year', 'Kilometers_Driven']\n",
        "selected_corr_matrix = corr_matrix.loc[selected_columns, selected_columns]\n",
        "\n",
        "# Plot the correlation matrix with a half mask\n",
        "plt.figure(figsize=(10, 8))\n",
        "\n",
        "# Generate a mask for the upper triangle\n",
        "mask = np.triu(np.ones_like(selected_corr_matrix, dtype=bool))\n",
        "\n",
        "# Plot the heatmap with the mask\n",
        "sns.heatmap(selected_corr_matrix, annot=True, cmap='coolwarm', center=0, mask=mask)\n",
        "plt.title('Correlation Matrix of Selected Features (Half Mask)')\n",
        "plt.show()"
      ]
    },
    {
      "cell_type": "markdown",
      "metadata": {
        "id": "C2q8FxUwN5p_"
      },
      "source": [
        "#### Why Use a Half Mask in a Correlation Matrix Visualization?\n",
        "\n",
        "In visualizing correlation matrices, a half mask (or triangular mask) is often used to improve readability and reduce redundancy. Here's why and what benefits it offers:\n",
        "\n",
        "##### Why Use a Half Mask?\n",
        "\n",
        "1. **Redundancy Reduction:**\n",
        "   - A correlation matrix is symmetric, meaning that the value at position (i, j) is the same as at (j, i). Displaying the full matrix results in redundant information. A half mask removes this redundancy by displaying only one half of the matrix.\n",
        "\n",
        "2. **Improved Clarity:**\n",
        "   - By masking one half of the matrix, the visualization becomes less cluttered, making it easier to focus on the unique correlations. This is especially useful when dealing with a large number of features.\n",
        "\n",
        "3. **Aesthetic Appeal:**\n",
        "   - A half mask can make the heatmap look cleaner and more organized, improving the overall visual appeal of the plot.\n",
        "\n",
        "##### Benefits of Using a Half Mask\n",
        "\n",
        "1. **Enhanced Readability:**\n",
        "   - With fewer cells to interpret, users can more quickly identify and understand the significant correlations. This is particularly useful when presenting data to an audience unfamiliar with the dataset.\n",
        "\n",
        "2. **Focus on Important Information:**\n",
        "   - By reducing the amount of displayed information, the visualization directs the viewer's attention to the unique relationships between features, helping them draw insights more efficiently.\n",
        "\n",
        "3. **Saves Space:**\n",
        "   - In presentations or reports where space is limited, a half-mask heatmap takes up less room while still conveying all necessary information.\n",
        "\n",
        "#### Use the np.triu() numpy function to isolate the upper triangle of a matrix while turning all the values in the lower triangle into 0. (The np.tril() function would do the same, only for the lower triangle.) Using the np.ones_like() function will change all the isolated values into 1.\n",
        "```Python\n",
        "np.triu(np.ones_like(selected_corr_matrix, dtype=bool))\n",
        "```\n",
        "<img src=\"https://miro.medium.com/v2/resize:fit:1400/format:webp/1*mYMvHiyCGrN39X79gFFsNg.png\" height=\"150px\">\n",
        "\n",
        "#### Plot and use the mask\n",
        "```Python\n",
        "# Plot the correlation matrix with a half mask\n",
        "plt.figure(figsize=(10, 8))\n",
        "\n",
        "# Generate a mask for the upper triangle\n",
        "mask = np.triu(np.ones_like(selected_corr_matrix, dtype=bool))\n",
        "\n",
        "# Plot the heatmap with the mask\n",
        "sns.heatmap(selected_corr_matrix, annot=True, cmap='coolwarm', center=0, mask=mask)\n",
        "plt.title('Correlation Matrix of Selected Features (Half Mask)')\n",
        "plt.show()\n",
        "\n",
        "# define the mask to set the values in the upper triangle to True\n",
        "mask = np.triu(np.ones_like(df.corr(), dtype=np.bool))\n",
        "\n",
        "heatmap = sns.heatmap(df.corr(), mask=mask, vmin=-1, vmax=1, annot=True, cmap='BrBG')\n",
        "heatmap.set_title('Triangle Correlation Heatmap', fontdict={'fontsize':18}, pad=16)\n",
        "```\n",
        "\n",
        "<br/>\n",
        "<b><span style=\"color: red;\">Please go to this <a href = \"https://medium.com/@szabo.bibor/how-to-create-a-seaborn-correlation-heatmap-in-python-834c0686b88e\">page</a> and read more!</span></b>"
      ]
    },
    {
      "cell_type": "markdown",
      "metadata": {
        "id": "m_5pHAwzN5p_"
      },
      "source": [
        "### 3. Distribution of Car Prices\n"
      ]
    },
    {
      "cell_type": "code",
      "source": [
        "sns.set(style='whitegrid')\n",
        "plt.figure(figsize=(10, 6))\n",
        "sns.histplot(df['New_Price'], bins=30, kde=True)\n",
        "plt.title('Distribution of Car Prices')\n",
        "plt.xlabel('Price (in lakhs)')\n",
        "plt.ylabel('Frequency')\n",
        "plt.show()"
      ],
      "metadata": {
        "colab": {
          "base_uri": "https://localhost:8080/",
          "height": 573
        },
        "id": "Dn9btugjC-sM",
        "outputId": "93015cf9-b795-4fe2-aa20-26a6f7341b11"
      },
      "execution_count": null,
      "outputs": [
        {
          "output_type": "display_data",
          "data": {
            "text/plain": [
              "<Figure size 1000x600 with 1 Axes>"
            ],
            "image/png": "[encoded data removed]"
          },
          "metadata": {}
        }
      ]
    },
    {
      "cell_type": "code",
      "execution_count": null,
      "metadata": {
        "colab": {
          "base_uri": "https://localhost:8080/",
          "height": 573
        },
        "id": "UtfdkskZN5p_",
        "outputId": "6e398b06-b0f0-4679-bee1-ce0baf1d50d1"
      },
      "outputs": [
        {
          "output_type": "display_data",
          "data": {
            "text/plain": [
              "<Figure size 1000x600 with 1 Axes>"
            ],
            "image/png": "[encoded data removed]"
          },
          "metadata": {}
        }
      ],
      "source": [
        "# Set the plot style##\n",
        "sns.set(style=\"whitegrid\")\n",
        "\n",
        "# Distribution of Car Prices\n",
        "plt.figure(figsize=(10, 6))\n",
        "sns.histplot(df['New_Price'].dropna(), bins=30, kde=True)\n",
        "plt.title('Distribution of Car Prices')\n",
        "plt.xlabel('Price (in lakhs)')\n",
        "plt.ylabel('Frequency')\n",
        "plt.show()"
      ]
    },
    {
      "cell_type": "markdown",
      "metadata": {
        "id": "UwxZJCOkN5qA"
      },
      "source": [
        "### 4. Kilometers Driven vs. Year"
      ]
    },
    {
      "cell_type": "code",
      "execution_count": null,
      "metadata": {
        "colab": {
          "base_uri": "https://localhost:8080/",
          "height": 573
        },
        "id": "nyE3h0xwN5qA",
        "outputId": "41418af4-8582-4673-ec44-f960cf146ba2"
      },
      "outputs": [
        {
          "output_type": "display_data",
          "data": {
            "text/plain": [
              "<Figure size 1000x600 with 1 Axes>"
            ],
            "image/png": "[encoded data removed]"
          },
          "metadata": {}
        }
      ],
      "source": [
        "plt.figure(figsize=(10, 6))\n",
        "sns.scatterplot(data=df, x='Year', y='Kilometers_Driven', alpha=0.5)\n",
        "plt.title('Kilometers Driven vs. Year')\n",
        "plt.xlabel('Year')\n",
        "plt.ylabel('Kilometers Driven')\n",
        "plt.show()"
      ]
    },
    {
      "cell_type": "markdown",
      "metadata": {
        "id": "FSgMoFHiN5qA"
      },
      "source": [
        "### 5. Fuel Type Distribution"
      ]
    },
    {
      "cell_type": "code",
      "execution_count": null,
      "metadata": {
        "colab": {
          "base_uri": "https://localhost:8080/",
          "height": 573
        },
        "id": "viULKLYyN5qA",
        "outputId": "b928b9dd-08b1-47f1-9a25-1909e3fae0ca"
      },
      "outputs": [
        {
          "output_type": "display_data",
          "data": {
            "text/plain": [
              "<Figure size 1000x600 with 1 Axes>"
            ],
            "image/png": "[encoded data removed]"
          },
          "metadata": {}
        }
      ],
      "source": [
        "plt.figure(figsize=(10, 6))\n",
        "sns.countplot(x='Fuel_Type', data=df)\n",
        "plt.title('Fuel Type Distribution')\n",
        "plt.xlabel('Fuel Type')\n",
        "plt.ylabel('Count')\n",
        "plt.show()"
      ]
    },
    {
      "cell_type": "markdown",
      "metadata": {
        "id": "vTqWG5_fN5qA"
      },
      "source": [
        "### 6. Transmission Type Distribution"
      ]
    },
    {
      "cell_type": "code",
      "execution_count": null,
      "metadata": {
        "colab": {
          "base_uri": "https://localhost:8080/",
          "height": 573
        },
        "id": "cb5Hyrb3N5qA",
        "outputId": "6dfacef0-14ed-41ff-8ae1-0eeeb85e3072"
      },
      "outputs": [
        {
          "output_type": "display_data",
          "data": {
            "text/plain": [
              "<Figure size 1000x600 with 1 Axes>"
            ],
            "image/png": "[encoded data removed]"
          },
          "metadata": {}
        }
      ],
      "source": [
        "plt.figure(figsize=(10, 6))\n",
        "sns.countplot(x='Transmission', data=df)\n",
        "plt.title('Transmission Type Distribution')\n",
        "plt.xlabel('Transmission Type')\n",
        "plt.ylabel('Count')\n",
        "plt.show()"
      ]
    },
    {
      "cell_type": "markdown",
      "metadata": {
        "id": "el4jIPDmN5qA"
      },
      "source": [
        "### 7. Owner Type Distribution"
      ]
    },
    {
      "cell_type": "code",
      "execution_count": null,
      "metadata": {
        "colab": {
          "base_uri": "https://localhost:8080/",
          "height": 573
        },
        "id": "gn2LYNUoN5qA",
        "outputId": "2d4370c4-986f-4d41-d613-9bb238910c4b"
      },
      "outputs": [
        {
          "output_type": "display_data",
          "data": {
            "text/plain": [
              "<Figure size 1000x600 with 1 Axes>"
            ],
            "image/png": "[encoded data removed]"
          },
          "metadata": {}
        }
      ],
      "source": [
        "plt.figure(figsize=(10, 6))\n",
        "sns.countplot(x='Owner_Type', data=df)\n",
        "plt.title('Owner Type Distribution')\n",
        "plt.xlabel('Owner Type')\n",
        "plt.ylabel('Count')\n",
        "plt.show()"
      ]
    },
    {
      "cell_type": "markdown",
      "metadata": {
        "id": "lPG4CwX0N5qB"
      },
      "source": [
        "### 8. Correlation between Engine Size and Power"
      ]
    },
    {
      "cell_type": "code",
      "source": [
        "plt.figure(figsize=(10, 6))\n",
        "sns.scatterplot(data=df, x='Engine', y='Power', alpha=0.5)\n",
        "plt.title('Correlation between Engine Size and Power')\n",
        "plt.xlabel('Engine (cc)')\n",
        "plt.ylabel('Power (bhp)')\n",
        "plt.show()"
      ],
      "metadata": {
        "colab": {
          "base_uri": "https://localhost:8080/",
          "height": 573
        },
        "id": "IotH_5SMDVZU",
        "outputId": "6df82603-7d3f-40f4-ab31-6bccf860d419"
      },
      "execution_count": null,
      "outputs": [
        {
          "output_type": "display_data",
          "data": {
            "text/plain": [
              "<Figure size 1000x600 with 1 Axes>"
            ],
            "image/png": "[encoded data removed]"
          },
          "metadata": {}
        }
      ]
    },
    {
      "cell_type": "code",
      "execution_count": null,
      "metadata": {
        "colab": {
          "base_uri": "https://localhost:8080/",
          "height": 573
        },
        "id": "DL5HkgkZN5qB",
        "outputId": "86f27245-18ac-4ede-f157-2e4ef2345cb3"
      },
      "outputs": [
        {
          "output_type": "display_data",
          "data": {
            "text/plain": [
              "<Figure size 1000x600 with 1 Axes>"
            ],
            "image/png": "[encoded data removed]"
          },
          "metadata": {}
        }
      ],
      "source": [
        "plt.figure(figsize=(10, 6))##\n",
        "sns.scatterplot(data=df, x='Engine', y='Power', alpha=0.5)\n",
        "plt.title('Correlation between Engine Size and Power')\n",
        "plt.xlabel('Engine (cc)')\n",
        "plt.ylabel('Power (bhp)')\n",
        "plt.show()"
      ]
    },
    {
      "cell_type": "markdown",
      "metadata": {
        "id": "sltbNytPN5qB"
      },
      "source": [
        "### 9. Top 10 Locations with Most Listings"
      ]
    },
    {
      "cell_type": "code",
      "source": [
        "location_columns = [col for col in df.columns if col.startswith('Location_')]\n",
        "location_counts = df[location_columns].sum().sort_values(ascending=False).head(10)\n",
        "\n",
        "plt.figure(figsize=(10, 6))\n",
        "sns.barplot(x=location_counts.values, y=location_counts.index)\n",
        "plt.title('Top 10 Locations with Most Listings')\n",
        "plt.xlabel('Number of Listings')\n",
        "plt.ylabel('Location')\n",
        "plt.show()"
      ],
      "metadata": {
        "colab": {
          "base_uri": "https://localhost:8080/",
          "height": 573
        },
        "id": "x9D09iSTEqkO",
        "outputId": "062d2a9d-db8a-4166-b637-c40e2407c6a5"
      },
      "execution_count": null,
      "outputs": [
        {
          "output_type": "display_data",
          "data": {
            "text/plain": [
              "<Figure size 1000x600 with 1 Axes>"
            ],
            "image/png": "[encoded data removed]"
          },
          "metadata": {}
        }
      ]
    },
    {
      "cell_type": "code",
      "execution_count": null,
      "metadata": {
        "colab": {
          "base_uri": "https://localhost:8080/",
          "height": 573
        },
        "id": "PA8tWXBBN5qB",
        "outputId": "9af29231-c03f-4250-e370-a1e3cb547bda"
      },
      "outputs": [
        {
          "output_type": "display_data",
          "data": {
            "text/plain": [
              "<Figure size 1000x600 with 1 Axes>"
            ],
            "image/png": "[encoded data removed]"
          },
          "metadata": {}
        }
      ],
      "source": [
        "location_columns = [col for col in df.columns if col.startswith('Location_')]##\n",
        "location_counts = df[location_columns].sum().sort_values(ascending=False).head(10)\n",
        "\n",
        "plt.figure(figsize=(10, 6))\n",
        "sns.barplot(x=location_counts.values, y=location_counts.index)\n",
        "plt.title('Top 10 Locations with Most Listings')\n",
        "plt.xlabel('Number of Listings')\n",
        "plt.ylabel('Location')\n",
        "plt.show()"
      ]
    },
    {
      "cell_type": "markdown",
      "metadata": {
        "id": "aUcG4vroN5qB"
      },
      "source": [
        "<h1 style=\"color: cyan;\"> Please add more and share your visualizations on discord! with what insights do you get from your visualizations.</h1>"
      ]
    },
    {
      "cell_type": "markdown",
      "metadata": {
        "id": "pNr6AqhwN5qB"
      },
      "source": [
        "# 4- Save the dataframe\n",
        "Never forget to save your data so you don't run the whole code again."
      ]
    },
    {
      "cell_type": "code",
      "execution_count": null,
      "metadata": {
        "id": "r1BfvBzhN5qB"
      },
      "outputs": [],
      "source": [
        "df.to_csv('cleaned_used_cars.csv', index=False)"
      ]
    },
    {
      "cell_type": "code",
      "execution_count": null,
      "metadata": {
        "id": "gxUtNTpzN5qC"
      },
      "outputs": [],
      "source": [
        "df.to_csv('cleaned_used_cars.csv', index=False)"
      ]
    }
  ],
  "metadata": {
    "kernelspec": {
      "display_name": "base",
      "language": "python",
      "name": "python3"
    },
    "language_info": {
      "codemirror_mode": {
        "name": "ipython",
        "version": 3
      },
      "file_extension": ".py",
      "mimetype": "text/x-python",
      "name": "python",
      "nbconvert_exporter": "python",
      "pygments_lexer": "ipython3",
      "version": "3.12.4"
    },
    "colab": {
      "provenance": [],
      "include_colab_link": true
    }
  },
  "nbformat": 4,
  "nbformat_minor": 0
}